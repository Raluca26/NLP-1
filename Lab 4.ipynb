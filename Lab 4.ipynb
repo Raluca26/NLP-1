{
  "cells": [
    {
      "cell_type": "markdown",
      "source": [
        "Web interfaces & documentation:\n",
        "\n",
        "https://wordnet.princeton.edu/\n",
        "\n",
        "http://wordvis.com/\n",
        "\n",
        "Paper/documentation: https://dl.acm.org/doi/pdf/10.1145/219717.219748\n",
        "\n"
      ],
      "metadata": {
        "id": "2tAKgBJB2utH"
      }
    },
    {
      "cell_type": "code",
      "execution_count": null,
      "metadata": {
        "colab": {
          "base_uri": "https://localhost:8080/"
        },
        "id": "R7VDMGaY2I7Z",
        "outputId": "243a2266-bd26-4792-ccfe-6f3495b262c9"
      },
      "outputs": [
        {
          "output_type": "stream",
          "name": "stderr",
          "text": [
            "[nltk_data] Downloading package wordnet to /root/nltk_data...\n"
          ]
        }
      ],
      "source": [
        "from nltk import download\n",
        "download('wordnet')\n",
        "\n",
        "from nltk.corpus import wordnet as wn"
      ]
    },
    {
      "cell_type": "markdown",
      "metadata": {
        "id": "-oiXlCvj2I7f"
      },
      "source": [
        "### Synsets"
      ]
    },
    {
      "cell_type": "code",
      "execution_count": null,
      "metadata": {
        "colab": {
          "base_uri": "https://localhost:8080/"
        },
        "id": "baU3BKbd2I7g",
        "outputId": "fcdd7ba8-71d2-4a1f-ba5e-73180afaf726"
      },
      "outputs": [
        {
          "output_type": "execute_result",
          "data": {
            "text/plain": [
              "[Synset('child.n.01'),\n",
              " Synset('kid.n.02'),\n",
              " Synset('kyd.n.01'),\n",
              " Synset('child.n.02'),\n",
              " Synset('kid.n.05'),\n",
              " Synset('pull_the_leg_of.v.01'),\n",
              " Synset('kid.v.02')]"
            ]
          },
          "metadata": {},
          "execution_count": 2
        }
      ],
      "source": [
        "kid_synsets = wn.synsets('kid')\n",
        "kid_synsets"
      ]
    },
    {
      "cell_type": "markdown",
      "metadata": {
        "id": "DbEfT5aT2I7i"
      },
      "source": [
        "Parts of speech"
      ]
    },
    {
      "cell_type": "code",
      "execution_count": null,
      "metadata": {
        "colab": {
          "base_uri": "https://localhost:8080/"
        },
        "id": "-xzDpwpY2I7j",
        "outputId": "a4dcff72-45aa-4e91-8312-3328254290c6"
      },
      "outputs": [
        {
          "output_type": "execute_result",
          "data": {
            "text/plain": [
              "['n', 'n', 'n', 'n', 'n', 'v', 'v']"
            ]
          },
          "metadata": {},
          "execution_count": 3
        }
      ],
      "source": [
        "[s.pos() for s in kid_synsets]\n"
      ]
    },
    {
      "cell_type": "markdown",
      "metadata": {
        "id": "oGLW3-yf2I7j"
      },
      "source": [
        "Example usages"
      ]
    },
    {
      "cell_type": "code",
      "source": [
        "kid_synsets[0].definition()"
      ],
      "metadata": {
        "colab": {
          "base_uri": "https://localhost:8080/",
          "height": 36
        },
        "id": "y3yMYw9G5UCe",
        "outputId": "5258e4a1-d457-4d2d-f4fa-22042cb858c3"
      },
      "execution_count": null,
      "outputs": [
        {
          "output_type": "execute_result",
          "data": {
            "text/plain": [
              "'a young person of either sex'"
            ],
            "application/vnd.google.colaboratory.intrinsic+json": {
              "type": "string"
            }
          },
          "metadata": {},
          "execution_count": 4
        }
      ]
    },
    {
      "cell_type": "code",
      "execution_count": null,
      "metadata": {
        "colab": {
          "base_uri": "https://localhost:8080/"
        },
        "id": "jHQHgwJV2I7j",
        "outputId": "312e8e9a-9b4f-4ce9-a569-574a44317735"
      },
      "outputs": [
        {
          "output_type": "execute_result",
          "data": {
            "text/plain": [
              "['she writes books for children',\n",
              " \"they're just kids\",\n",
              " \"`tiddler' is a British term for youngster\"]"
            ]
          },
          "metadata": {},
          "execution_count": 5
        }
      ],
      "source": [
        "kid_synsets[0].examples()"
      ]
    },
    {
      "cell_type": "code",
      "source": [
        "kid_synsets[0].lemma_names()"
      ],
      "metadata": {
        "colab": {
          "base_uri": "https://localhost:8080/"
        },
        "id": "rIog0y6B5gWs",
        "outputId": "e507bcaf-90a1-4f07-9292-fe1e89542925"
      },
      "execution_count": null,
      "outputs": [
        {
          "output_type": "execute_result",
          "data": {
            "text/plain": [
              "['child',\n",
              " 'kid',\n",
              " 'youngster',\n",
              " 'minor',\n",
              " 'shaver',\n",
              " 'nipper',\n",
              " 'small_fry',\n",
              " 'tiddler',\n",
              " 'tike',\n",
              " 'tyke',\n",
              " 'fry',\n",
              " 'nestling']"
            ]
          },
          "metadata": {},
          "execution_count": 6
        }
      ]
    },
    {
      "cell_type": "code",
      "source": [
        "kid_synsets[6].examples()"
      ],
      "metadata": {
        "colab": {
          "base_uri": "https://localhost:8080/"
        },
        "id": "BD-wJbJ1Um-9",
        "outputId": "be8e60ac-b9dd-4331-d88d-dac0f5d70a9e"
      },
      "execution_count": null,
      "outputs": [
        {
          "output_type": "execute_result",
          "data": {
            "text/plain": [
              "['After we relaxed, we just kidded around']"
            ]
          },
          "metadata": {},
          "execution_count": 7
        }
      ]
    },
    {
      "cell_type": "code",
      "source": [
        "kid_synsets[5].examples()"
      ],
      "metadata": {
        "colab": {
          "base_uri": "https://localhost:8080/"
        },
        "id": "CBSHQfX3dFOm",
        "outputId": "177be427-ade1-4119-cdd8-b6c3a1578c81"
      },
      "execution_count": null,
      "outputs": [
        {
          "output_type": "execute_result",
          "data": {
            "text/plain": [
              "['Are you pulling my leg?']"
            ]
          },
          "metadata": {},
          "execution_count": 8
        }
      ]
    },
    {
      "cell_type": "markdown",
      "metadata": {
        "id": "YjLv5Q9u2I7k"
      },
      "source": [
        "### Semantic relationships"
      ]
    },
    {
      "cell_type": "markdown",
      "source": [
        "#### Nouns"
      ],
      "metadata": {
        "id": "e9NYmUWG4t3y"
      }
    },
    {
      "cell_type": "markdown",
      "metadata": {
        "id": "PaWp5i6I2I7m"
      },
      "source": [
        "\n",
        "Hyponyms / hypernyms"
      ]
    },
    {
      "cell_type": "code",
      "execution_count": null,
      "metadata": {
        "colab": {
          "base_uri": "https://localhost:8080/"
        },
        "id": "pbYByZ8P2I7n",
        "outputId": "1e280965-49f8-41ee-d23e-b51e561d6a7d"
      },
      "outputs": [
        {
          "output_type": "execute_result",
          "data": {
            "text/plain": [
              "[Synset('bairn.n.01'),\n",
              " Synset('buster.n.02'),\n",
              " Synset('changeling.n.02'),\n",
              " Synset('child_prodigy.n.01'),\n",
              " Synset('foster-child.n.01'),\n",
              " Synset('imp.n.02'),\n",
              " Synset('kiddy.n.01'),\n",
              " Synset('orphan.n.01'),\n",
              " Synset('peanut.n.03'),\n",
              " Synset('pickaninny.n.01'),\n",
              " Synset('poster_child.n.01'),\n",
              " Synset('preschooler.n.01'),\n",
              " Synset('silly.n.01'),\n",
              " Synset('sprog.n.02'),\n",
              " Synset('toddler.n.01'),\n",
              " Synset('urchin.n.01'),\n",
              " Synset('waif.n.01')]"
            ]
          },
          "metadata": {},
          "execution_count": 9
        }
      ],
      "source": [
        "kid_synsets[0].hyponyms()"
      ]
    },
    {
      "cell_type": "code",
      "source": [
        "wn.synsets('tree')[0].hyponyms()"
      ],
      "metadata": {
        "colab": {
          "base_uri": "https://localhost:8080/"
        },
        "id": "7nNxZHnKd8BM",
        "outputId": "63752b02-c7dc-4f39-e968-146e971a0f91"
      },
      "execution_count": null,
      "outputs": [
        {
          "output_type": "execute_result",
          "data": {
            "text/plain": [
              "[Synset('aalii.n.01'),\n",
              " Synset('acacia.n.01'),\n",
              " Synset('african_walnut.n.01'),\n",
              " Synset('albizzia.n.01'),\n",
              " Synset('alder.n.02'),\n",
              " Synset('angelim.n.01'),\n",
              " Synset('angiospermous_tree.n.01'),\n",
              " Synset('anise_tree.n.01'),\n",
              " Synset('arbor.n.01'),\n",
              " Synset('aroeira_blanca.n.01'),\n",
              " Synset('ash.n.02'),\n",
              " Synset('australian_nettle.n.01'),\n",
              " Synset('balata.n.02'),\n",
              " Synset('bayberry.n.01'),\n",
              " Synset('bean_tree.n.01'),\n",
              " Synset('beech.n.01'),\n",
              " Synset('birch.n.02'),\n",
              " Synset('bitterwood_tree.n.01'),\n",
              " Synset('black_mangrove.n.01'),\n",
              " Synset('blackwood.n.02'),\n",
              " Synset('bloodwood_tree.n.01'),\n",
              " Synset('bonduc.n.02'),\n",
              " Synset('bonsai.n.01'),\n",
              " Synset('bottle-tree.n.01'),\n",
              " Synset('brazilian_ironwood.n.01'),\n",
              " Synset('brazilian_pepper_tree.n.01'),\n",
              " Synset('brazilwood.n.02'),\n",
              " Synset('breakax.n.01'),\n",
              " Synset('burma_padauk.n.01'),\n",
              " Synset('button_tree.n.01'),\n",
              " Synset('cabbage_tree.n.03'),\n",
              " Synset('calaba.n.01'),\n",
              " Synset('calabash.n.02'),\n",
              " Synset('camwood.n.01'),\n",
              " Synset('caracolito.n.01'),\n",
              " Synset('carib_wood.n.01'),\n",
              " Synset('cassia.n.01'),\n",
              " Synset('casuarina.n.01'),\n",
              " Synset('chaulmoogra.n.01'),\n",
              " Synset('chestnut.n.02'),\n",
              " Synset('chinaberry.n.02'),\n",
              " Synset('chinese_parasol_tree.n.01'),\n",
              " Synset('christmas_bush.n.01'),\n",
              " Synset('cinchona.n.02'),\n",
              " Synset('clusia.n.01'),\n",
              " Synset('cockspur.n.02'),\n",
              " Synset('cocobolo.n.01'),\n",
              " Synset('coffee.n.02'),\n",
              " Synset('conacaste.n.01'),\n",
              " Synset('coral_tree.n.01'),\n",
              " Synset('coralwood.n.01'),\n",
              " Synset('cork_tree.n.01'),\n",
              " Synset('dagame.n.01'),\n",
              " Synset('devilwood.n.01'),\n",
              " Synset('dhak.n.01'),\n",
              " Synset('dhawa.n.01'),\n",
              " Synset('dipterocarp.n.01'),\n",
              " Synset('dita.n.01'),\n",
              " Synset('divi-divi.n.02'),\n",
              " Synset('ebony.n.03'),\n",
              " Synset('elm.n.01'),\n",
              " Synset('fever_tree.n.01'),\n",
              " Synset('fig_tree.n.01'),\n",
              " Synset('fringe_tree.n.01'),\n",
              " Synset('giant_chinkapin.n.01'),\n",
              " Synset('gliricidia.n.01'),\n",
              " Synset('granadilla_tree.n.01'),\n",
              " Synset('guama.n.01'),\n",
              " Synset('guinea_pepper.n.02'),\n",
              " Synset('gum_tree.n.01'),\n",
              " Synset('gutta-percha_tree.n.01'),\n",
              " Synset('gutta-percha_tree.n.02'),\n",
              " Synset('gymnospermous_tree.n.01'),\n",
              " Synset('hackberry.n.01'),\n",
              " Synset('hazel.n.01'),\n",
              " Synset('hop_hornbeam.n.01'),\n",
              " Synset('hornbeam.n.01'),\n",
              " Synset('hydnocarpus_laurifolia.n.01'),\n",
              " Synset('ice-cream_bean.n.01'),\n",
              " Synset('idesia.n.01'),\n",
              " Synset('incense_tree.n.01'),\n",
              " Synset('indian_beech.n.01'),\n",
              " Synset('inga.n.01'),\n",
              " Synset('ivory_tree.n.01'),\n",
              " Synset('jamaica_dogwood.n.01'),\n",
              " Synset('jamaican_cherry.n.01'),\n",
              " Synset('japanese_pagoda_tree.n.01'),\n",
              " Synset('kentucky_coffee_tree.n.01'),\n",
              " Synset('ketembilla.n.01'),\n",
              " Synset('keurboom.n.01'),\n",
              " Synset('keurboom.n.02'),\n",
              " Synset('kingwood.n.02'),\n",
              " Synset('kino.n.02'),\n",
              " Synset('kowhai.n.01'),\n",
              " Synset('lacebark.n.01'),\n",
              " Synset('lancewood.n.02'),\n",
              " Synset('lanseh_tree.n.01'),\n",
              " Synset('laurelwood.n.01'),\n",
              " Synset('lead_tree.n.01'),\n",
              " Synset('lemonwood.n.02'),\n",
              " Synset('lepidobotrys.n.01'),\n",
              " Synset('linden.n.02'),\n",
              " Synset('locust_tree.n.01'),\n",
              " Synset('mahogany.n.02'),\n",
              " Synset('manila_tamarind.n.01'),\n",
              " Synset('marblewood.n.02'),\n",
              " Synset('maria.n.02'),\n",
              " Synset('marmalade_tree.n.01'),\n",
              " Synset('mayeng.n.01'),\n",
              " Synset('mescal_bean.n.01'),\n",
              " Synset('millettia.n.01'),\n",
              " Synset('montezuma.n.01'),\n",
              " Synset('msasa.n.01'),\n",
              " Synset('nakedwood.n.01'),\n",
              " Synset('necklace_tree.n.01'),\n",
              " Synset('neem.n.01'),\n",
              " Synset('nitta_tree.n.01'),\n",
              " Synset('oak.n.02'),\n",
              " Synset('oak_chestnut.n.01'),\n",
              " Synset('obeche.n.02'),\n",
              " Synset('opepe.n.01'),\n",
              " Synset('padauk.n.01'),\n",
              " Synset('palm.n.03'),\n",
              " Synset('palo_verde.n.01'),\n",
              " Synset('pandanus.n.02'),\n",
              " Synset('pepper_tree.n.01'),\n",
              " Synset('pepper_tree.n.02'),\n",
              " Synset('peruvian_balsam.n.01'),\n",
              " Synset('plane_tree.n.01'),\n",
              " Synset('pollard.n.01'),\n",
              " Synset('poon.n.02'),\n",
              " Synset('prickly_ash.n.01'),\n",
              " Synset('prickly_ash.n.02'),\n",
              " Synset('princewood.n.01'),\n",
              " Synset('puka.n.02'),\n",
              " Synset('quandong.n.01'),\n",
              " Synset('quandong.n.03'),\n",
              " Synset('quira.n.02'),\n",
              " Synset('red_sandalwood.n.02'),\n",
              " Synset('red_silk-cotton_tree.n.01'),\n",
              " Synset('ribbon_tree.n.01'),\n",
              " Synset('rose_chestnut.n.01'),\n",
              " Synset('rosewood.n.02'),\n",
              " Synset('sandalwood_tree.n.01'),\n",
              " Synset('sapling.n.01'),\n",
              " Synset('satinwood.n.03'),\n",
              " Synset('scarlet_wisteria_tree.n.01'),\n",
              " Synset('scrub_beefwood.n.01'),\n",
              " Synset('shade_tree.n.01'),\n",
              " Synset('shaving-brush_tree.n.01'),\n",
              " Synset('shingle_tree.n.01'),\n",
              " Synset('silver_ash.n.01'),\n",
              " Synset('silver_tree.n.01'),\n",
              " Synset('silver_tree.n.02'),\n",
              " Synset('sissoo.n.01'),\n",
              " Synset('snag.n.02'),\n",
              " Synset('soapberry.n.01'),\n",
              " Synset('souari.n.01'),\n",
              " Synset('southern_beech.n.01'),\n",
              " Synset('spanish_tamarind.n.01'),\n",
              " Synset('tanbark_oak.n.01'),\n",
              " Synset('teak.n.02'),\n",
              " Synset('timber_tree.n.01'),\n",
              " Synset('tipu.n.01'),\n",
              " Synset('tolu_tree.n.01'),\n",
              " Synset('tree_of_knowledge.n.01'),\n",
              " Synset('treelet.n.01'),\n",
              " Synset('trifoliate_orange.n.01'),\n",
              " Synset('tulipwood_tree.n.01'),\n",
              " Synset('turreae.n.01'),\n",
              " Synset('wheel_tree.n.01'),\n",
              " Synset('white_mangrove.n.01'),\n",
              " Synset('white_mangrove.n.02'),\n",
              " Synset('wild_fig.n.02'),\n",
              " Synset('wild_medlar.n.01'),\n",
              " Synset('wild_tamarind.n.02'),\n",
              " Synset('willow.n.01'),\n",
              " Synset('winter's_bark.n.02'),\n",
              " Synset('yellowwood.n.02'),\n",
              " Synset('zebrawood.n.02')]"
            ]
          },
          "metadata": {},
          "execution_count": 10
        }
      ]
    },
    {
      "cell_type": "code",
      "source": [
        "wn.synsets('tree')[0].hypernyms()"
      ],
      "metadata": {
        "colab": {
          "base_uri": "https://localhost:8080/"
        },
        "id": "Jp0JdesbeHAB",
        "outputId": "a9ac1ded-1283-4b98-f7d0-f18073b7ad5b"
      },
      "execution_count": null,
      "outputs": [
        {
          "output_type": "execute_result",
          "data": {
            "text/plain": [
              "[Synset('woody_plant.n.01')]"
            ]
          },
          "metadata": {},
          "execution_count": 11
        }
      ]
    },
    {
      "cell_type": "code",
      "source": [
        "kid_synsets[0].hyponyms()[-1].definition()"
      ],
      "metadata": {
        "colab": {
          "base_uri": "https://localhost:8080/",
          "height": 36
        },
        "id": "vgrHpPicciDI",
        "outputId": "f4317b88-fc45-4d44-ce95-1b00a2d5e70a"
      },
      "execution_count": null,
      "outputs": [
        {
          "output_type": "execute_result",
          "data": {
            "text/plain": [
              "'a homeless child especially one forsaken or orphaned'"
            ],
            "application/vnd.google.colaboratory.intrinsic+json": {
              "type": "string"
            }
          },
          "metadata": {},
          "execution_count": 12
        }
      ]
    },
    {
      "cell_type": "code",
      "source": [
        "kid_synsets[0].lemmas()"
      ],
      "metadata": {
        "colab": {
          "base_uri": "https://localhost:8080/"
        },
        "id": "latZB4qAedcN",
        "outputId": "e1c5bab5-0530-4f7d-c700-59b7bf276c43"
      },
      "execution_count": null,
      "outputs": [
        {
          "output_type": "execute_result",
          "data": {
            "text/plain": [
              "[Lemma('child.n.01.child'),\n",
              " Lemma('child.n.01.kid'),\n",
              " Lemma('child.n.01.youngster'),\n",
              " Lemma('child.n.01.minor'),\n",
              " Lemma('child.n.01.shaver'),\n",
              " Lemma('child.n.01.nipper'),\n",
              " Lemma('child.n.01.small_fry'),\n",
              " Lemma('child.n.01.tiddler'),\n",
              " Lemma('child.n.01.tike'),\n",
              " Lemma('child.n.01.tyke'),\n",
              " Lemma('child.n.01.fry'),\n",
              " Lemma('child.n.01.nestling')]"
            ]
          },
          "metadata": {},
          "execution_count": 13
        }
      ]
    },
    {
      "cell_type": "code",
      "execution_count": null,
      "metadata": {
        "colab": {
          "base_uri": "https://localhost:8080/"
        },
        "id": "7TDl1jso2I7o",
        "outputId": "4dba4381-221f-48c9-b4d6-d71d205ef65f"
      },
      "outputs": [
        {
          "output_type": "execute_result",
          "data": {
            "text/plain": [
              "['child',\n",
              " 'kid',\n",
              " 'youngster',\n",
              " 'minor',\n",
              " 'shaver',\n",
              " 'nipper',\n",
              " 'small_fry',\n",
              " 'tiddler',\n",
              " 'tike',\n",
              " 'tyke',\n",
              " 'fry',\n",
              " 'nestling']"
            ]
          },
          "metadata": {},
          "execution_count": 14
        }
      ],
      "source": [
        "[l.name() for l in kid_synsets[0].lemmas()]"
      ]
    },
    {
      "cell_type": "code",
      "source": [
        "kid_synsets[0].hypernyms()"
      ],
      "metadata": {
        "colab": {
          "base_uri": "https://localhost:8080/"
        },
        "id": "gSfqzT-ZUw6Z",
        "outputId": "6ef37c79-1e7c-49b6-8965-73bada16b8a3"
      },
      "execution_count": null,
      "outputs": [
        {
          "output_type": "execute_result",
          "data": {
            "text/plain": [
              "[Synset('juvenile.n.01')]"
            ]
          },
          "metadata": {},
          "execution_count": 15
        }
      ]
    },
    {
      "cell_type": "code",
      "source": [
        "wn.synsets(\"tree\")"
      ],
      "metadata": {
        "colab": {
          "base_uri": "https://localhost:8080/"
        },
        "id": "-X2ZhgH4TgO7",
        "outputId": "b37c7322-d06e-4a17-f13e-43be5cb68393"
      },
      "execution_count": null,
      "outputs": [
        {
          "output_type": "execute_result",
          "data": {
            "text/plain": [
              "[Synset('tree.n.01'),\n",
              " Synset('tree.n.02'),\n",
              " Synset('tree.n.03'),\n",
              " Synset('corner.v.02'),\n",
              " Synset('tree.v.02'),\n",
              " Synset('tree.v.03'),\n",
              " Synset('tree.v.04')]"
            ]
          },
          "metadata": {},
          "execution_count": 16
        }
      ]
    },
    {
      "cell_type": "code",
      "source": [
        "[s.definition() for s in wn.synsets(\"tree\")]"
      ],
      "metadata": {
        "colab": {
          "base_uri": "https://localhost:8080/"
        },
        "id": "GfV3sfxAexWA",
        "outputId": "5fe36600-7e84-4ca3-8b88-e7cce4593cf3"
      },
      "execution_count": null,
      "outputs": [
        {
          "output_type": "execute_result",
          "data": {
            "text/plain": [
              "['a tall perennial woody plant having a main trunk and branches forming a distinct elevated crown; includes both gymnosperms and angiosperms',\n",
              " 'a figure that branches from a single root',\n",
              " 'English actor and theatrical producer noted for his lavish productions of Shakespeare (1853-1917)',\n",
              " 'force a person or an animal into a position from which he cannot escape',\n",
              " 'plant with trees',\n",
              " 'chase an animal up a tree',\n",
              " 'stretch (a shoe) on a shoetree']"
            ]
          },
          "metadata": {},
          "execution_count": 17
        }
      ]
    },
    {
      "cell_type": "code",
      "source": [
        "tree_synset = wn.synsets(\"tree\")[0]\n",
        "tree_synset.hyponyms()"
      ],
      "metadata": {
        "colab": {
          "base_uri": "https://localhost:8080/"
        },
        "id": "M2SVgpORTpEV",
        "outputId": "67dbcf46-5f15-4a4d-80bc-cb75009a747a"
      },
      "execution_count": null,
      "outputs": [
        {
          "output_type": "execute_result",
          "data": {
            "text/plain": [
              "[Synset('aalii.n.01'),\n",
              " Synset('acacia.n.01'),\n",
              " Synset('african_walnut.n.01'),\n",
              " Synset('albizzia.n.01'),\n",
              " Synset('alder.n.02'),\n",
              " Synset('angelim.n.01'),\n",
              " Synset('angiospermous_tree.n.01'),\n",
              " Synset('anise_tree.n.01'),\n",
              " Synset('arbor.n.01'),\n",
              " Synset('aroeira_blanca.n.01'),\n",
              " Synset('ash.n.02'),\n",
              " Synset('australian_nettle.n.01'),\n",
              " Synset('balata.n.02'),\n",
              " Synset('bayberry.n.01'),\n",
              " Synset('bean_tree.n.01'),\n",
              " Synset('beech.n.01'),\n",
              " Synset('birch.n.02'),\n",
              " Synset('bitterwood_tree.n.01'),\n",
              " Synset('black_mangrove.n.01'),\n",
              " Synset('blackwood.n.02'),\n",
              " Synset('bloodwood_tree.n.01'),\n",
              " Synset('bonduc.n.02'),\n",
              " Synset('bonsai.n.01'),\n",
              " Synset('bottle-tree.n.01'),\n",
              " Synset('brazilian_ironwood.n.01'),\n",
              " Synset('brazilian_pepper_tree.n.01'),\n",
              " Synset('brazilwood.n.02'),\n",
              " Synset('breakax.n.01'),\n",
              " Synset('burma_padauk.n.01'),\n",
              " Synset('button_tree.n.01'),\n",
              " Synset('cabbage_tree.n.03'),\n",
              " Synset('calaba.n.01'),\n",
              " Synset('calabash.n.02'),\n",
              " Synset('camwood.n.01'),\n",
              " Synset('caracolito.n.01'),\n",
              " Synset('carib_wood.n.01'),\n",
              " Synset('cassia.n.01'),\n",
              " Synset('casuarina.n.01'),\n",
              " Synset('chaulmoogra.n.01'),\n",
              " Synset('chestnut.n.02'),\n",
              " Synset('chinaberry.n.02'),\n",
              " Synset('chinese_parasol_tree.n.01'),\n",
              " Synset('christmas_bush.n.01'),\n",
              " Synset('cinchona.n.02'),\n",
              " Synset('clusia.n.01'),\n",
              " Synset('cockspur.n.02'),\n",
              " Synset('cocobolo.n.01'),\n",
              " Synset('coffee.n.02'),\n",
              " Synset('conacaste.n.01'),\n",
              " Synset('coral_tree.n.01'),\n",
              " Synset('coralwood.n.01'),\n",
              " Synset('cork_tree.n.01'),\n",
              " Synset('dagame.n.01'),\n",
              " Synset('devilwood.n.01'),\n",
              " Synset('dhak.n.01'),\n",
              " Synset('dhawa.n.01'),\n",
              " Synset('dipterocarp.n.01'),\n",
              " Synset('dita.n.01'),\n",
              " Synset('divi-divi.n.02'),\n",
              " Synset('ebony.n.03'),\n",
              " Synset('elm.n.01'),\n",
              " Synset('fever_tree.n.01'),\n",
              " Synset('fig_tree.n.01'),\n",
              " Synset('fringe_tree.n.01'),\n",
              " Synset('giant_chinkapin.n.01'),\n",
              " Synset('gliricidia.n.01'),\n",
              " Synset('granadilla_tree.n.01'),\n",
              " Synset('guama.n.01'),\n",
              " Synset('guinea_pepper.n.02'),\n",
              " Synset('gum_tree.n.01'),\n",
              " Synset('gutta-percha_tree.n.01'),\n",
              " Synset('gutta-percha_tree.n.02'),\n",
              " Synset('gymnospermous_tree.n.01'),\n",
              " Synset('hackberry.n.01'),\n",
              " Synset('hazel.n.01'),\n",
              " Synset('hop_hornbeam.n.01'),\n",
              " Synset('hornbeam.n.01'),\n",
              " Synset('hydnocarpus_laurifolia.n.01'),\n",
              " Synset('ice-cream_bean.n.01'),\n",
              " Synset('idesia.n.01'),\n",
              " Synset('incense_tree.n.01'),\n",
              " Synset('indian_beech.n.01'),\n",
              " Synset('inga.n.01'),\n",
              " Synset('ivory_tree.n.01'),\n",
              " Synset('jamaica_dogwood.n.01'),\n",
              " Synset('jamaican_cherry.n.01'),\n",
              " Synset('japanese_pagoda_tree.n.01'),\n",
              " Synset('kentucky_coffee_tree.n.01'),\n",
              " Synset('ketembilla.n.01'),\n",
              " Synset('keurboom.n.01'),\n",
              " Synset('keurboom.n.02'),\n",
              " Synset('kingwood.n.02'),\n",
              " Synset('kino.n.02'),\n",
              " Synset('kowhai.n.01'),\n",
              " Synset('lacebark.n.01'),\n",
              " Synset('lancewood.n.02'),\n",
              " Synset('lanseh_tree.n.01'),\n",
              " Synset('laurelwood.n.01'),\n",
              " Synset('lead_tree.n.01'),\n",
              " Synset('lemonwood.n.02'),\n",
              " Synset('lepidobotrys.n.01'),\n",
              " Synset('linden.n.02'),\n",
              " Synset('locust_tree.n.01'),\n",
              " Synset('mahogany.n.02'),\n",
              " Synset('manila_tamarind.n.01'),\n",
              " Synset('marblewood.n.02'),\n",
              " Synset('maria.n.02'),\n",
              " Synset('marmalade_tree.n.01'),\n",
              " Synset('mayeng.n.01'),\n",
              " Synset('mescal_bean.n.01'),\n",
              " Synset('millettia.n.01'),\n",
              " Synset('montezuma.n.01'),\n",
              " Synset('msasa.n.01'),\n",
              " Synset('nakedwood.n.01'),\n",
              " Synset('necklace_tree.n.01'),\n",
              " Synset('neem.n.01'),\n",
              " Synset('nitta_tree.n.01'),\n",
              " Synset('oak.n.02'),\n",
              " Synset('oak_chestnut.n.01'),\n",
              " Synset('obeche.n.02'),\n",
              " Synset('opepe.n.01'),\n",
              " Synset('padauk.n.01'),\n",
              " Synset('palm.n.03'),\n",
              " Synset('palo_verde.n.01'),\n",
              " Synset('pandanus.n.02'),\n",
              " Synset('pepper_tree.n.01'),\n",
              " Synset('pepper_tree.n.02'),\n",
              " Synset('peruvian_balsam.n.01'),\n",
              " Synset('plane_tree.n.01'),\n",
              " Synset('pollard.n.01'),\n",
              " Synset('poon.n.02'),\n",
              " Synset('prickly_ash.n.01'),\n",
              " Synset('prickly_ash.n.02'),\n",
              " Synset('princewood.n.01'),\n",
              " Synset('puka.n.02'),\n",
              " Synset('quandong.n.01'),\n",
              " Synset('quandong.n.03'),\n",
              " Synset('quira.n.02'),\n",
              " Synset('red_sandalwood.n.02'),\n",
              " Synset('red_silk-cotton_tree.n.01'),\n",
              " Synset('ribbon_tree.n.01'),\n",
              " Synset('rose_chestnut.n.01'),\n",
              " Synset('rosewood.n.02'),\n",
              " Synset('sandalwood_tree.n.01'),\n",
              " Synset('sapling.n.01'),\n",
              " Synset('satinwood.n.03'),\n",
              " Synset('scarlet_wisteria_tree.n.01'),\n",
              " Synset('scrub_beefwood.n.01'),\n",
              " Synset('shade_tree.n.01'),\n",
              " Synset('shaving-brush_tree.n.01'),\n",
              " Synset('shingle_tree.n.01'),\n",
              " Synset('silver_ash.n.01'),\n",
              " Synset('silver_tree.n.01'),\n",
              " Synset('silver_tree.n.02'),\n",
              " Synset('sissoo.n.01'),\n",
              " Synset('snag.n.02'),\n",
              " Synset('soapberry.n.01'),\n",
              " Synset('souari.n.01'),\n",
              " Synset('southern_beech.n.01'),\n",
              " Synset('spanish_tamarind.n.01'),\n",
              " Synset('tanbark_oak.n.01'),\n",
              " Synset('teak.n.02'),\n",
              " Synset('timber_tree.n.01'),\n",
              " Synset('tipu.n.01'),\n",
              " Synset('tolu_tree.n.01'),\n",
              " Synset('tree_of_knowledge.n.01'),\n",
              " Synset('treelet.n.01'),\n",
              " Synset('trifoliate_orange.n.01'),\n",
              " Synset('tulipwood_tree.n.01'),\n",
              " Synset('turreae.n.01'),\n",
              " Synset('wheel_tree.n.01'),\n",
              " Synset('white_mangrove.n.01'),\n",
              " Synset('white_mangrove.n.02'),\n",
              " Synset('wild_fig.n.02'),\n",
              " Synset('wild_medlar.n.01'),\n",
              " Synset('wild_tamarind.n.02'),\n",
              " Synset('willow.n.01'),\n",
              " Synset('winter's_bark.n.02'),\n",
              " Synset('yellowwood.n.02'),\n",
              " Synset('zebrawood.n.02')]"
            ]
          },
          "metadata": {},
          "execution_count": 18
        }
      ]
    },
    {
      "cell_type": "markdown",
      "source": [
        "### Meronyms / holonyms"
      ],
      "metadata": {
        "id": "LDZyN8MgPtnO"
      }
    },
    {
      "cell_type": "code",
      "source": [
        "tree_synset.part_meronyms()"
      ],
      "metadata": {
        "colab": {
          "base_uri": "https://localhost:8080/"
        },
        "id": "VpRT2z20Vre_",
        "outputId": "e64531b3-4d59-4274-b66b-16c55bc79d5b"
      },
      "execution_count": null,
      "outputs": [
        {
          "output_type": "execute_result",
          "data": {
            "text/plain": [
              "[Synset('burl.n.02'),\n",
              " Synset('crown.n.07'),\n",
              " Synset('limb.n.02'),\n",
              " Synset('stump.n.01'),\n",
              " Synset('trunk.n.01')]"
            ]
          },
          "metadata": {},
          "execution_count": 19
        }
      ]
    },
    {
      "cell_type": "code",
      "source": [
        "tree_synset.member_meronyms()"
      ],
      "metadata": {
        "colab": {
          "base_uri": "https://localhost:8080/"
        },
        "id": "8ou26OSiVsR4",
        "outputId": "fca485cf-08de-4c9f-ef2e-668f49b5c0d8"
      },
      "execution_count": null,
      "outputs": [
        {
          "output_type": "execute_result",
          "data": {
            "text/plain": [
              "[]"
            ]
          },
          "metadata": {},
          "execution_count": 20
        }
      ]
    },
    {
      "cell_type": "code",
      "source": [
        "tree_synset.member_holonyms()"
      ],
      "metadata": {
        "colab": {
          "base_uri": "https://localhost:8080/"
        },
        "id": "7cJm6A4LWsGh",
        "outputId": "15a5f747-990d-4e74-e225-9ce212ca1435"
      },
      "execution_count": null,
      "outputs": [
        {
          "output_type": "execute_result",
          "data": {
            "text/plain": [
              "[Synset('forest.n.01')]"
            ]
          },
          "metadata": {},
          "execution_count": 21
        }
      ]
    },
    {
      "cell_type": "code",
      "source": [
        "tree_synset.substance_meronyms()"
      ],
      "metadata": {
        "colab": {
          "base_uri": "https://localhost:8080/"
        },
        "id": "tmRyZfhuW45B",
        "outputId": "e570d782-7412-4112-b608-9040dc8c8fd5"
      },
      "execution_count": null,
      "outputs": [
        {
          "output_type": "execute_result",
          "data": {
            "text/plain": [
              "[Synset('heartwood.n.01'), Synset('sapwood.n.01')]"
            ]
          },
          "metadata": {},
          "execution_count": 22
        }
      ]
    },
    {
      "cell_type": "code",
      "source": [
        "wn.synsets('forest')[0].member_meronyms()"
      ],
      "metadata": {
        "colab": {
          "base_uri": "https://localhost:8080/"
        },
        "id": "-7UzS2_bWEuz",
        "outputId": "1bc7c2fd-67c3-40bf-cd94-dcbf56be94dc"
      },
      "execution_count": null,
      "outputs": [
        {
          "output_type": "execute_result",
          "data": {
            "text/plain": [
              "[Synset('tree.n.01'), Synset('underbrush.n.01')]"
            ]
          },
          "metadata": {},
          "execution_count": 23
        }
      ]
    },
    {
      "cell_type": "code",
      "source": [
        "[s.definition() for s in wn.synsets(\"flock\")]"
      ],
      "metadata": {
        "colab": {
          "base_uri": "https://localhost:8080/"
        },
        "id": "7O00cfoKWXYr",
        "outputId": "fe54b83d-c7e8-433a-c7f2-8fea7fc21a3f"
      },
      "execution_count": null,
      "outputs": [
        {
          "output_type": "execute_result",
          "data": {
            "text/plain": [
              "['a church congregation guided by a pastor',\n",
              " 'a group of birds',\n",
              " \"(often followed by `of') a large number or amount or extent\",\n",
              " 'an orderly crowd',\n",
              " 'a group of sheep or goats',\n",
              " 'move as a crowd or in a group',\n",
              " 'come together as in a cluster or flock']"
            ]
          },
          "metadata": {},
          "execution_count": 24
        }
      ]
    },
    {
      "cell_type": "code",
      "source": [
        "wn.synsets(\"flock\")[1].member_meronyms()"
      ],
      "metadata": {
        "colab": {
          "base_uri": "https://localhost:8080/"
        },
        "id": "giSsH9wiVyoI",
        "outputId": "b652c59b-f6ac-4afb-f4f3-d1ccc78e0cde"
      },
      "execution_count": null,
      "outputs": [
        {
          "output_type": "execute_result",
          "data": {
            "text/plain": [
              "[Synset('bird.n.01')]"
            ]
          },
          "metadata": {},
          "execution_count": 25
        }
      ]
    },
    {
      "cell_type": "code",
      "source": [
        "wn.synsets(\"flock\")[4].member_meronyms()"
      ],
      "metadata": {
        "colab": {
          "base_uri": "https://localhost:8080/"
        },
        "id": "VHtkE9FBWiJi",
        "outputId": "d6d185e4-4dcc-42f3-dea2-8dc15179ccfa"
      },
      "execution_count": null,
      "outputs": [
        {
          "output_type": "execute_result",
          "data": {
            "text/plain": [
              "[Synset('sheep.n.01')]"
            ]
          },
          "metadata": {},
          "execution_count": 26
        }
      ]
    },
    {
      "cell_type": "code",
      "source": [
        "wn.synsets(\"flock\")[1].definition()"
      ],
      "metadata": {
        "colab": {
          "base_uri": "https://localhost:8080/",
          "height": 36
        },
        "id": "HG7yEUW4XINN",
        "outputId": "16797c36-9b4d-4e1f-da71-77528cf51cfc"
      },
      "execution_count": null,
      "outputs": [
        {
          "output_type": "execute_result",
          "data": {
            "text/plain": [
              "'a group of birds'"
            ],
            "application/vnd.google.colaboratory.intrinsic+json": {
              "type": "string"
            }
          },
          "metadata": {},
          "execution_count": 27
        }
      ]
    },
    {
      "cell_type": "code",
      "source": [
        "bird_synset = wn.synsets(\"flock\")[1].member_meronyms()[0]"
      ],
      "metadata": {
        "id": "QUnLbchyc78r"
      },
      "execution_count": null,
      "outputs": []
    },
    {
      "cell_type": "markdown",
      "source": [
        "#### Back to hypernyms"
      ],
      "metadata": {
        "id": "ARuzJVkt7oZp"
      }
    },
    {
      "cell_type": "code",
      "source": [
        "s = bird_synset\n",
        "for i in range(5):\n",
        "  print((\"%%%ds%%s %%s\" % (5-i)) % (\"\", s.name(), s.definition()))\n",
        "  s = s.hypernyms()[0]\n"
      ],
      "metadata": {
        "colab": {
          "base_uri": "https://localhost:8080/"
        },
        "id": "86pjuFi4dHt7",
        "outputId": "a9e2aaed-cf98-4e7c-80c6-fb7ee22eb1d9"
      },
      "execution_count": null,
      "outputs": [
        {
          "output_type": "stream",
          "name": "stdout",
          "text": [
            "     bird.n.01 warm-blooded egg-laying vertebrates characterized by feathers and forelimbs modified as wings\n",
            "    vertebrate.n.01 animals having a bony or cartilaginous skeleton with a segmented spinal column and a large brain enclosed in a skull or cranium\n",
            "   chordate.n.01 any animal of the phylum Chordata having a notochord or spinal column\n",
            "  animal.n.01 a living organism characterized by voluntary movement\n",
            " organism.n.01 a living thing that has (or can develop) the ability to act or function independently\n"
          ]
        }
      ]
    },
    {
      "cell_type": "code",
      "source": [
        "sorted(bird_synset.hypernym_distances(), key=lambda t: t[1])"
      ],
      "metadata": {
        "colab": {
          "base_uri": "https://localhost:8080/"
        },
        "id": "zClZLkB8dE_c",
        "outputId": "5679c27e-bf09-45d9-e232-62ed84f99e9c"
      },
      "execution_count": null,
      "outputs": [
        {
          "output_type": "execute_result",
          "data": {
            "text/plain": [
              "[(Synset('bird.n.01'), 0),\n",
              " (Synset('vertebrate.n.01'), 1),\n",
              " (Synset('chordate.n.01'), 2),\n",
              " (Synset('animal.n.01'), 3),\n",
              " (Synset('organism.n.01'), 4),\n",
              " (Synset('living_thing.n.01'), 5),\n",
              " (Synset('whole.n.02'), 6),\n",
              " (Synset('object.n.01'), 7),\n",
              " (Synset('physical_entity.n.01'), 8),\n",
              " (Synset('entity.n.01'), 9)]"
            ]
          },
          "metadata": {},
          "execution_count": 30
        }
      ]
    },
    {
      "cell_type": "code",
      "source": [
        "[(s, s.definition()) for s in wn.synsets(\"human\")]"
      ],
      "metadata": {
        "colab": {
          "base_uri": "https://localhost:8080/"
        },
        "id": "R-8xVmqtkuZW",
        "outputId": "0e6da825-18f1-41cc-9665-3738d6992cdf"
      },
      "execution_count": null,
      "outputs": [
        {
          "output_type": "execute_result",
          "data": {
            "text/plain": [
              "[(Synset('homo.n.02'),\n",
              "  'any living or extinct member of the family Hominidae characterized by superior intelligence, articulate speech, and erect carriage'),\n",
              " (Synset('human.a.01'), 'characteristic of humanity'),\n",
              " (Synset('human.a.02'), 'relating to a person'),\n",
              " (Synset('human.a.03'),\n",
              "  'having human form or attributes as opposed to those of animals or divine beings')]"
            ]
          },
          "metadata": {},
          "execution_count": 31
        }
      ]
    },
    {
      "cell_type": "code",
      "source": [
        "human_synset = wn.synsets(\"human\", pos=\"n\")[0]"
      ],
      "metadata": {
        "id": "Qei7umFulzrK"
      },
      "execution_count": null,
      "outputs": []
    },
    {
      "cell_type": "code",
      "source": [
        "wn.synsets(\"human\", pos=wn.NOUN)"
      ],
      "metadata": {
        "colab": {
          "base_uri": "https://localhost:8080/"
        },
        "id": "_fsJr4C7X4cU",
        "outputId": "ac80cf0c-f266-4e8c-d771-d2a57e2e245b"
      },
      "execution_count": null,
      "outputs": [
        {
          "output_type": "execute_result",
          "data": {
            "text/plain": [
              "[Synset('homo.n.02')]"
            ]
          },
          "metadata": {},
          "execution_count": 33
        }
      ]
    },
    {
      "cell_type": "code",
      "source": [
        "sorted(human_synset.hypernym_distances(), key=lambda t: t[1])"
      ],
      "metadata": {
        "colab": {
          "base_uri": "https://localhost:8080/"
        },
        "id": "bx-8ofNpWEXC",
        "outputId": "ab86cd7f-9b7d-4887-a77a-b3c8f9997a96"
      },
      "execution_count": null,
      "outputs": [
        {
          "output_type": "execute_result",
          "data": {
            "text/plain": [
              "[(Synset('homo.n.02'), 0),\n",
              " (Synset('hominid.n.01'), 1),\n",
              " (Synset('primate.n.02'), 2),\n",
              " (Synset('placental.n.01'), 3),\n",
              " (Synset('mammal.n.01'), 4),\n",
              " (Synset('vertebrate.n.01'), 5),\n",
              " (Synset('chordate.n.01'), 6),\n",
              " (Synset('animal.n.01'), 7),\n",
              " (Synset('organism.n.01'), 8),\n",
              " (Synset('living_thing.n.01'), 9),\n",
              " (Synset('whole.n.02'), 10),\n",
              " (Synset('object.n.01'), 11),\n",
              " (Synset('physical_entity.n.01'), 12),\n",
              " (Synset('entity.n.01'), 13)]"
            ]
          },
          "metadata": {},
          "execution_count": 34
        }
      ]
    },
    {
      "cell_type": "code",
      "source": [
        "human_synset.lowest_common_hypernyms(bird_synset)"
      ],
      "metadata": {
        "colab": {
          "base_uri": "https://localhost:8080/"
        },
        "id": "BRwfJsDWl-BS",
        "outputId": "428b499c-b503-4c68-9e42-6c085dca98aa"
      },
      "execution_count": null,
      "outputs": [
        {
          "output_type": "execute_result",
          "data": {
            "text/plain": [
              "[Synset('vertebrate.n.01')]"
            ]
          },
          "metadata": {},
          "execution_count": 35
        }
      ]
    },
    {
      "cell_type": "code",
      "source": [
        "oyster_synset = wn.synsets(\"oyster\", pos=\"n\")[0]"
      ],
      "metadata": {
        "id": "ccdMTzIz9WCa"
      },
      "execution_count": null,
      "outputs": []
    },
    {
      "cell_type": "code",
      "source": [
        "oyster_synset.lowest_common_hypernyms(bird_synset)"
      ],
      "metadata": {
        "colab": {
          "base_uri": "https://localhost:8080/"
        },
        "id": "-vPOOTZ19e4V",
        "outputId": "c0e8e1f3-b090-41ca-c2fb-92693f52a165"
      },
      "execution_count": null,
      "outputs": [
        {
          "output_type": "execute_result",
          "data": {
            "text/plain": [
              "[Synset('animal.n.01')]"
            ]
          },
          "metadata": {},
          "execution_count": 37
        }
      ]
    },
    {
      "cell_type": "code",
      "source": [
        "human_synset.lowest_common_hypernyms(wn.synsets(\"monkey\")[0])"
      ],
      "metadata": {
        "colab": {
          "base_uri": "https://localhost:8080/"
        },
        "id": "esfquGajmHTM",
        "outputId": "e0296b53-08e7-40ad-d16c-e6c742b84d48"
      },
      "execution_count": null,
      "outputs": [
        {
          "output_type": "execute_result",
          "data": {
            "text/plain": [
              "[Synset('primate.n.02')]"
            ]
          },
          "metadata": {},
          "execution_count": 38
        }
      ]
    },
    {
      "cell_type": "code",
      "source": [
        "human_synset.lowest_common_hypernyms(wn.synsets(\"plant\")[1])"
      ],
      "metadata": {
        "colab": {
          "base_uri": "https://localhost:8080/"
        },
        "id": "vMZECRn7_V7Z",
        "outputId": "4e04bf1a-b0ca-49cb-f07d-40bce6b3c512"
      },
      "execution_count": null,
      "outputs": [
        {
          "output_type": "execute_result",
          "data": {
            "text/plain": [
              "[Synset('organism.n.01')]"
            ]
          },
          "metadata": {},
          "execution_count": 39
        }
      ]
    },
    {
      "cell_type": "code",
      "source": [
        "god_synsets = wn.synsets(\"God\")\n",
        "[s.definition() for s in god_synsets]"
      ],
      "metadata": {
        "colab": {
          "base_uri": "https://localhost:8080/"
        },
        "id": "gOnVzu6xWe-2",
        "outputId": "96cecd28-8dc6-4876-aa27-8211d4b1ffb5"
      },
      "execution_count": null,
      "outputs": [
        {
          "output_type": "execute_result",
          "data": {
            "text/plain": [
              "['the supernatural being conceived as the perfect and omnipotent and omniscient originator and ruler of the universe; the object of worship in monotheistic religions',\n",
              " 'any supernatural being worshipped as controlling some part of the world or some aspect of life or who is the personification of a force',\n",
              " 'a man of such superior qualities that he seems like a deity to other people',\n",
              " 'a material effigy that is worshipped']"
            ]
          },
          "metadata": {},
          "execution_count": 40
        }
      ]
    },
    {
      "cell_type": "code",
      "source": [
        "human_synset.lowest_common_hypernyms(god_synsets[0])"
      ],
      "metadata": {
        "colab": {
          "base_uri": "https://localhost:8080/"
        },
        "id": "SkE5UU5TWb1n",
        "outputId": "40fde6cd-1764-4a27-c22e-27821ea94618"
      },
      "execution_count": null,
      "outputs": [
        {
          "output_type": "execute_result",
          "data": {
            "text/plain": [
              "[Synset('entity.n.01')]"
            ]
          },
          "metadata": {},
          "execution_count": 41
        }
      ]
    },
    {
      "cell_type": "code",
      "source": [
        "human_synset.lowest_common_hypernyms(god_synsets[3])\n",
        "human_synset.lowest_common_hypernyms(god_synsets[3])[0].definition()"
      ],
      "metadata": {
        "colab": {
          "base_uri": "https://localhost:8080/",
          "height": 36
        },
        "id": "sjGSq-ThW9IY",
        "outputId": "9e984a3f-f74b-43c9-e2c9-734a5545dc2f"
      },
      "execution_count": null,
      "outputs": [
        {
          "output_type": "execute_result",
          "data": {
            "text/plain": [
              "'an assemblage of parts that is regarded as a single entity'"
            ],
            "application/vnd.google.colaboratory.intrinsic+json": {
              "type": "string"
            }
          },
          "metadata": {},
          "execution_count": 42
        }
      ]
    },
    {
      "cell_type": "code",
      "source": [
        "god_synsets[1]"
      ],
      "metadata": {
        "colab": {
          "base_uri": "https://localhost:8080/"
        },
        "id": "4OHPE_j-SIbY",
        "outputId": "c1852023-14fd-4297-8947-87b01fa4d3bb"
      },
      "execution_count": null,
      "outputs": [
        {
          "output_type": "execute_result",
          "data": {
            "text/plain": [
              "Synset('deity.n.01')"
            ]
          },
          "metadata": {},
          "execution_count": 43
        }
      ]
    },
    {
      "cell_type": "code",
      "source": [
        "god_synsets[1].hyponyms()"
      ],
      "metadata": {
        "colab": {
          "base_uri": "https://localhost:8080/"
        },
        "id": "m7MMuWdNXVxP",
        "outputId": "2e329800-919a-4b2c-d6c5-ebb8c53269a6"
      },
      "execution_count": null,
      "outputs": [
        {
          "output_type": "execute_result",
          "data": {
            "text/plain": [
              "[Synset('anglo-saxon_deity.n.01'),\n",
              " Synset('celtic_deity.n.01'),\n",
              " Synset('chinese_deity.n.01'),\n",
              " Synset('daemon.n.02'),\n",
              " Synset('demiurge.n.01'),\n",
              " Synset('earth-god.n.01'),\n",
              " Synset('egyptian_deity.n.01'),\n",
              " Synset('goddess.n.01'),\n",
              " Synset('greco-roman_deity.n.01'),\n",
              " Synset('greek_deity.n.01'),\n",
              " Synset('hindu_deity.n.01'),\n",
              " Synset('japanese_deity.n.01'),\n",
              " Synset('norse_deity.n.01'),\n",
              " Synset('persian_deity.n.01'),\n",
              " Synset('phrygian_deity.n.01'),\n",
              " Synset('roman_deity.n.01'),\n",
              " Synset('saint.n.01'),\n",
              " Synset('sea_god.n.01'),\n",
              " Synset('semitic_deity.n.01'),\n",
              " Synset('sun_god.n.01'),\n",
              " Synset('teutonic_deity.n.01'),\n",
              " Synset('war_god.n.01'),\n",
              " Synset('zombi.n.02')]"
            ]
          },
          "metadata": {},
          "execution_count": 44
        }
      ]
    },
    {
      "cell_type": "code",
      "source": [
        "god_synsets[1].hyponyms()[10].hyponyms()"
      ],
      "metadata": {
        "colab": {
          "base_uri": "https://localhost:8080/"
        },
        "id": "RaoUSQpLXqjq",
        "outputId": "076f8e9d-9eac-4293-fa81-5fbf0e5ee1a4"
      },
      "execution_count": null,
      "outputs": [
        {
          "output_type": "execute_result",
          "data": {
            "text/plain": [
              "[Synset('aditya.n.01'),\n",
              " Synset('ahura.n.01'),\n",
              " Synset('asvins.n.01'),\n",
              " Synset('avatar.n.02'),\n",
              " Synset('dharma.n.01'),\n",
              " Synset('garuda.n.01'),\n",
              " Synset('marut.n.01'),\n",
              " Synset('ribhus.n.01'),\n",
              " Synset('soma.n.02'),\n",
              " Synset('vajra.n.01')]"
            ]
          },
          "metadata": {},
          "execution_count": 45
        }
      ]
    },
    {
      "cell_type": "code",
      "source": [
        "[s.lemma_names() for s in god_synsets[1].hyponyms()[10].hyponyms()]"
      ],
      "metadata": {
        "colab": {
          "base_uri": "https://localhost:8080/"
        },
        "id": "XlHOKLLTX2y3",
        "outputId": "80b39c3a-b344-48fb-8409-6ec2f7c78ecb"
      },
      "execution_count": null,
      "outputs": [
        {
          "output_type": "execute_result",
          "data": {
            "text/plain": [
              "[['Aditya'],\n",
              " ['Ahura'],\n",
              " ['Asvins'],\n",
              " ['avatar'],\n",
              " ['Dharma'],\n",
              " ['Garuda'],\n",
              " ['Marut'],\n",
              " ['Ribhus', 'Rhibhus'],\n",
              " ['Soma'],\n",
              " ['Vajra']]"
            ]
          },
          "metadata": {},
          "execution_count": 46
        }
      ]
    },
    {
      "cell_type": "code",
      "source": [
        "god_synsets[1].hyponyms()[10].instance_hyponyms()"
      ],
      "metadata": {
        "colab": {
          "base_uri": "https://localhost:8080/"
        },
        "id": "bPUp3qHkaA7p",
        "outputId": "e6fca624-5cf2-4b93-bcf3-2e3fbfe5822a"
      },
      "execution_count": null,
      "outputs": [
        {
          "output_type": "execute_result",
          "data": {
            "text/plain": [
              "[Synset('aditi.n.01'),\n",
              " Synset('agni.n.01'),\n",
              " Synset('asura.n.01'),\n",
              " Synset('bhaga.n.01'),\n",
              " Synset('bhumi_devi.n.01'),\n",
              " Synset('brahma.n.01'),\n",
              " Synset('brihaspati.n.01'),\n",
              " Synset('chandi.n.01'),\n",
              " Synset('devi.n.01'),\n",
              " Synset('durga.n.01'),\n",
              " Synset('dyaus.n.01'),\n",
              " Synset('ganesh.n.01'),\n",
              " Synset('gauri.n.01'),\n",
              " Synset('hanuman.n.01'),\n",
              " Synset('indra.n.01'),\n",
              " Synset('ka.n.01'),\n",
              " Synset('kali.n.02'),\n",
              " Synset('kama.n.01'),\n",
              " Synset('kartikeya.n.01'),\n",
              " Synset('lakshmi.n.01'),\n",
              " Synset('mara.n.01'),\n",
              " Synset('mitra.n.01'),\n",
              " Synset('parjanya.n.01'),\n",
              " Synset('parvati.n.01'),\n",
              " Synset('prajapati.n.01'),\n",
              " Synset('pushan.n.01'),\n",
              " Synset('rahu.n.01'),\n",
              " Synset('rudra.n.01'),\n",
              " Synset('sarasvati.n.01'),\n",
              " Synset('savitar.n.01'),\n",
              " Synset('shakti.n.01'),\n",
              " Synset('siva.n.01'),\n",
              " Synset('skanda.n.01'),\n",
              " Synset('surya.n.01'),\n",
              " Synset('uma.n.01'),\n",
              " Synset('ushas.n.01'),\n",
              " Synset('varuna.n.01'),\n",
              " Synset('vayu.n.01'),\n",
              " Synset('vishnu.n.01'),\n",
              " Synset('yama.n.01')]"
            ]
          },
          "metadata": {},
          "execution_count": 47
        }
      ]
    },
    {
      "cell_type": "code",
      "source": [
        "tree_synset.hyponyms??"
      ],
      "metadata": {
        "id": "d0phMMcxavjw"
      },
      "execution_count": null,
      "outputs": []
    },
    {
      "cell_type": "code",
      "source": [
        "[s.instance_hyponyms() for s in god_synsets[1].hyponyms()[10].hyponyms()]"
      ],
      "metadata": {
        "colab": {
          "base_uri": "https://localhost:8080/"
        },
        "id": "ze0yhjX4Zz9D",
        "outputId": "c69e5aed-596f-4ebf-f4e8-2bc834f84439"
      },
      "execution_count": null,
      "outputs": [
        {
          "output_type": "execute_result",
          "data": {
            "text/plain": [
              "[[],\n",
              " [],\n",
              " [],\n",
              " [Synset('jagannath.n.01'),\n",
              "  Synset('kalki.n.01'),\n",
              "  Synset('krishna.n.01'),\n",
              "  Synset('rama.n.01')],\n",
              " [],\n",
              " [],\n",
              " [],\n",
              " [],\n",
              " [],\n",
              " []]"
            ]
          },
          "metadata": {},
          "execution_count": 49
        }
      ]
    },
    {
      "cell_type": "code",
      "source": [
        "shiva_synset = wn.synsets('shiva')[1]\n",
        "shiva_synset.instance_hypernyms()\n"
      ],
      "metadata": {
        "colab": {
          "base_uri": "https://localhost:8080/"
        },
        "id": "tAwwKyzaZH4I",
        "outputId": "702be6ef-1cef-42f6-b5b9-2e2924b7aea2"
      },
      "execution_count": null,
      "outputs": [
        {
          "output_type": "execute_result",
          "data": {
            "text/plain": [
              "[Synset('hindu_deity.n.01')]"
            ]
          },
          "metadata": {},
          "execution_count": 50
        }
      ]
    },
    {
      "cell_type": "code",
      "source": [
        "[s.definition() for s in wn.synsets('zombi')]"
      ],
      "metadata": {
        "colab": {
          "base_uri": "https://localhost:8080/"
        },
        "id": "GyQUCg0eYul3",
        "outputId": "de32458d-86b2-44e7-9879-222af2346b90"
      },
      "execution_count": null,
      "outputs": [
        {
          "output_type": "execute_result",
          "data": {
            "text/plain": [
              "['(voodooism) a spirit or supernatural force that reanimates a dead body',\n",
              " 'a god of voodoo cults of African origin worshipped especially in West Indies',\n",
              " 'a dead body that has been brought back to life by a supernatural force',\n",
              " 'someone who acts or responds in a mechanical or apathetic way',\n",
              " 'several kinds of rum with fruit juice and usually apricot liqueur']"
            ]
          },
          "metadata": {},
          "execution_count": 51
        }
      ]
    },
    {
      "cell_type": "code",
      "source": [
        "[s.lowest_common_hypernyms(god_synsets[1]) for s in wn.synsets('zombi')]"
      ],
      "metadata": {
        "colab": {
          "base_uri": "https://localhost:8080/"
        },
        "id": "9DYt4H8wYLyo",
        "outputId": "1e786391-f2fb-4e32-d5ab-507cf905ebfd"
      },
      "execution_count": null,
      "outputs": [
        {
          "output_type": "execute_result",
          "data": {
            "text/plain": [
              "[[Synset('spiritual_being.n.01')],\n",
              " [Synset('deity.n.01')],\n",
              " [Synset('entity.n.01')],\n",
              " [Synset('entity.n.01')],\n",
              " [Synset('abstraction.n.06')]]"
            ]
          },
          "metadata": {},
          "execution_count": 52
        }
      ]
    },
    {
      "cell_type": "code",
      "source": [
        "wn.synsets('zombi')[2].hyponyms()"
      ],
      "metadata": {
        "colab": {
          "base_uri": "https://localhost:8080/"
        },
        "id": "M0Ow9HuOYXD5",
        "outputId": "7ab2b458-9efa-41af-b767-254a3ab78eeb"
      },
      "execution_count": null,
      "outputs": [
        {
          "output_type": "execute_result",
          "data": {
            "text/plain": [
              "[]"
            ]
          },
          "metadata": {},
          "execution_count": 53
        }
      ]
    },
    {
      "cell_type": "code",
      "source": [
        "[s.definition() for s in wn.synsets('weed')]"
      ],
      "metadata": {
        "colab": {
          "base_uri": "https://localhost:8080/"
        },
        "id": "DPeP69MZcqKf",
        "outputId": "173bdaae-a542-43e9-ba36-7a94a9a5e627"
      },
      "execution_count": null,
      "outputs": [
        {
          "output_type": "execute_result",
          "data": {
            "text/plain": [
              "['any plant that crowds out cultivated plants',\n",
              " 'a black band worn by a man (on the arm or hat) as a sign of mourning',\n",
              " 'street names for marijuana',\n",
              " 'clear of weeds']"
            ]
          },
          "metadata": {},
          "execution_count": 54
        }
      ]
    },
    {
      "cell_type": "code",
      "source": [
        "[s.definition() for s in wn.synsets('boomer')]"
      ],
      "metadata": {
        "colab": {
          "base_uri": "https://localhost:8080/"
        },
        "id": "T_pYDWVUczfJ",
        "outputId": "3fef2edb-b780-42a4-ec34-e2f7e9d24a94"
      },
      "execution_count": null,
      "outputs": [
        {
          "output_type": "execute_result",
          "data": {
            "text/plain": [
              "['a member of the baby boom generation in the 1950s']"
            ]
          },
          "metadata": {},
          "execution_count": 55
        }
      ]
    },
    {
      "cell_type": "code",
      "source": [
        "[s.definition() for s in wn.synsets('lit')]"
      ],
      "metadata": {
        "colab": {
          "base_uri": "https://localhost:8080/"
        },
        "id": "CXoYfeb6iY09",
        "outputId": "1f5b5e2e-188b-483a-c1be-48bb45a1f40a"
      },
      "execution_count": null,
      "outputs": [
        {
          "output_type": "execute_result",
          "data": {
            "text/plain": [
              "['the humanistic study of a body of literature',\n",
              " 'make lighter or brighter',\n",
              " 'begin to smoke',\n",
              " 'to come to rest, settle',\n",
              " 'cause to start burning; subject to fire or great heat',\n",
              " 'fall to somebody by assignment or lot',\n",
              " 'alight from (a horse)',\n",
              " 'provided with artificial light',\n",
              " 'set afire or burning']"
            ]
          },
          "metadata": {},
          "execution_count": 56
        }
      ]
    },
    {
      "cell_type": "code",
      "source": [
        "# Other ideas?\n",
        "#"
      ],
      "metadata": {
        "id": "ou9CYkj1Xf06"
      },
      "execution_count": null,
      "outputs": []
    },
    {
      "cell_type": "markdown",
      "source": [
        "### Verbs"
      ],
      "metadata": {
        "id": "7A6SMWXKXg1B"
      }
    },
    {
      "cell_type": "code",
      "source": [
        "wn.synsets('walk') # polysemy - multiple POS (morphological ambiguity)\n"
      ],
      "metadata": {
        "colab": {
          "base_uri": "https://localhost:8080/"
        },
        "id": "mP3zOimcXixF",
        "outputId": "d0b79c17-e029-42b9-9d3b-a27aedf98b01"
      },
      "execution_count": null,
      "outputs": [
        {
          "output_type": "execute_result",
          "data": {
            "text/plain": [
              "[Synset('walk.n.01'),\n",
              " Synset('base_on_balls.n.01'),\n",
              " Synset('walk.n.03'),\n",
              " Synset('walk.n.04'),\n",
              " Synset('walk.n.05'),\n",
              " Synset('walk.n.06'),\n",
              " Synset('walk_of_life.n.01'),\n",
              " Synset('walk.v.01'),\n",
              " Synset('walk.v.02'),\n",
              " Synset('walk.v.03'),\n",
              " Synset('walk.v.04'),\n",
              " Synset('walk.v.05'),\n",
              " Synset('walk.v.06'),\n",
              " Synset('walk.v.07'),\n",
              " Synset('walk.v.08'),\n",
              " Synset('walk.v.09'),\n",
              " Synset('walk.v.10')]"
            ]
          },
          "metadata": {},
          "execution_count": 58
        }
      ]
    },
    {
      "cell_type": "code",
      "source": [
        "# wn.synsets('key')\n"
      ],
      "metadata": {
        "id": "8cvQ1-K1eHP3"
      },
      "execution_count": null,
      "outputs": []
    },
    {
      "cell_type": "code",
      "source": [
        "synsets_walk = wn.synsets('walk', pos='v')\n",
        "synsets_walk"
      ],
      "metadata": {
        "colab": {
          "base_uri": "https://localhost:8080/"
        },
        "id": "YHFQmUO-nDFe",
        "outputId": "b285c538-8a45-4bdc-da2e-edbce1614d9e"
      },
      "execution_count": null,
      "outputs": [
        {
          "output_type": "execute_result",
          "data": {
            "text/plain": [
              "[Synset('walk.v.01'),\n",
              " Synset('walk.v.02'),\n",
              " Synset('walk.v.03'),\n",
              " Synset('walk.v.04'),\n",
              " Synset('walk.v.05'),\n",
              " Synset('walk.v.06'),\n",
              " Synset('walk.v.07'),\n",
              " Synset('walk.v.08'),\n",
              " Synset('walk.v.09'),\n",
              " Synset('walk.v.10')]"
            ]
          },
          "metadata": {},
          "execution_count": 60
        }
      ]
    },
    {
      "cell_type": "code",
      "source": [
        "for i, s in enumerate(synsets_walk):\n",
        "  if s.pos() == 'v':\n",
        "    print(\"%d. %s: %s\" % (i, s.definition(), [l.name() for l in s.lemmas()]))"
      ],
      "metadata": {
        "colab": {
          "base_uri": "https://localhost:8080/"
        },
        "id": "o_AFUU1uZemE",
        "outputId": "346539a3-7ebc-4dc3-8e76-039d7bcdb017"
      },
      "execution_count": null,
      "outputs": [
        {
          "output_type": "stream",
          "name": "stdout",
          "text": [
            "0. use one's feet to advance; advance by steps: ['walk']\n",
            "1. accompany or escort: ['walk']\n",
            "2. obtain a base on balls: ['walk']\n",
            "3. traverse or cover by walking: ['walk']\n",
            "4. give a base on balls to: ['walk']\n",
            "5. live or behave in a specified manner: ['walk']\n",
            "6. be or act in association with: ['walk']\n",
            "7. walk at a pace: ['walk']\n",
            "8. make walk: ['walk']\n",
            "9. take a walk; go for a walk; walk for pleasure: ['walk', 'take_the_air']\n"
          ]
        }
      ]
    },
    {
      "cell_type": "code",
      "source": [
        "synsets_walk[0].hypernyms()"
      ],
      "metadata": {
        "colab": {
          "base_uri": "https://localhost:8080/"
        },
        "id": "ulbRYL-bZ77g",
        "outputId": "7afa744f-a6d6-48be-a911-0fe033d104c2"
      },
      "execution_count": null,
      "outputs": [
        {
          "output_type": "execute_result",
          "data": {
            "text/plain": [
              "[Synset('travel.v.01')]"
            ]
          },
          "metadata": {},
          "execution_count": 62
        }
      ]
    },
    {
      "cell_type": "code",
      "source": [
        "synset_eat = wn.synsets('eat')[0]\n",
        "synset_eat.entailments()"
      ],
      "metadata": {
        "colab": {
          "base_uri": "https://localhost:8080/"
        },
        "id": "MO3NL0DScEKj",
        "outputId": "a58c4217-b8dd-4e03-a3fc-081927ffb510"
      },
      "execution_count": null,
      "outputs": [
        {
          "output_type": "execute_result",
          "data": {
            "text/plain": [
              "[Synset('chew.v.01'), Synset('swallow.v.01')]"
            ]
          },
          "metadata": {},
          "execution_count": 63
        }
      ]
    },
    {
      "cell_type": "code",
      "source": [
        "bird_synset.entailments() # no sense"
      ],
      "metadata": {
        "colab": {
          "base_uri": "https://localhost:8080/"
        },
        "id": "Qx0QERhUe4vH",
        "outputId": "787a56cd-18d6-4106-ed3e-65eae706b90d"
      },
      "execution_count": null,
      "outputs": [
        {
          "output_type": "execute_result",
          "data": {
            "text/plain": [
              "[]"
            ]
          },
          "metadata": {},
          "execution_count": 64
        }
      ]
    },
    {
      "cell_type": "code",
      "source": [
        "s = [synset_eat]\n",
        "while s:\n",
        "  print(s[0].name(), end = \" -> \")\n",
        "  s = s[0].entailments()"
      ],
      "metadata": {
        "colab": {
          "base_uri": "https://localhost:8080/"
        },
        "id": "Piniy2jCnni-",
        "outputId": "35a9fcc7-d6e9-4606-8941-b6a8a3678df0"
      },
      "execution_count": null,
      "outputs": [
        {
          "output_type": "stream",
          "name": "stdout",
          "text": [
            "eat.v.01 -> chew.v.01 -> "
          ]
        }
      ]
    },
    {
      "cell_type": "code",
      "source": [
        "s = [synsets_walk[0]]\n",
        "while s:\n",
        "  print(s[0].name(), end = \" -> \")\n",
        "  s = s[0].entailments()"
      ],
      "metadata": {
        "colab": {
          "base_uri": "https://localhost:8080/"
        },
        "id": "2_KsAjPjAW8Y",
        "outputId": "4fd58b7a-db03-404c-87e1-5389ceb61564"
      },
      "execution_count": null,
      "outputs": [
        {
          "output_type": "stream",
          "name": "stdout",
          "text": [
            "walk.v.01 -> step.v.01 -> "
          ]
        }
      ]
    },
    {
      "cell_type": "code",
      "source": [
        "walk_lemma = synsets_walk[0].lemmas()[0]"
      ],
      "metadata": {
        "id": "brDPD15GfoTR"
      },
      "execution_count": null,
      "outputs": []
    },
    {
      "cell_type": "code",
      "source": [
        "walk_synset = synsets_walk[0]"
      ],
      "metadata": {
        "id": "3nNSzqhQf_0f"
      },
      "execution_count": null,
      "outputs": []
    },
    {
      "cell_type": "code",
      "source": [
        "god_synsets[0].also_sees()"
      ],
      "metadata": {
        "colab": {
          "base_uri": "https://localhost:8080/"
        },
        "id": "E48eaEM8fsi5",
        "outputId": "01a589f8-16a7-428d-9628-2044cd6669a4"
      },
      "execution_count": null,
      "outputs": [
        {
          "output_type": "execute_result",
          "data": {
            "text/plain": [
              "[]"
            ]
          },
          "metadata": {},
          "execution_count": 69
        }
      ]
    },
    {
      "cell_type": "code",
      "source": [
        "synset_eat.also_sees()"
      ],
      "metadata": {
        "colab": {
          "base_uri": "https://localhost:8080/"
        },
        "id": "UzZiAdqRjkZM",
        "outputId": "388bf28a-529f-4c58-86d1-1a2f30cb6b91"
      },
      "execution_count": null,
      "outputs": [
        {
          "output_type": "execute_result",
          "data": {
            "text/plain": [
              "[]"
            ]
          },
          "metadata": {},
          "execution_count": 70
        }
      ]
    },
    {
      "cell_type": "markdown",
      "source": [],
      "metadata": {
        "id": "41j0eAy2Z7Fa"
      }
    },
    {
      "cell_type": "markdown",
      "source": [
        "## Adjectives"
      ],
      "metadata": {
        "id": "XfRHObaOpeqM"
      }
    },
    {
      "cell_type": "code",
      "source": [
        "wn.synsets(\"pretty\", pos=\"a\")"
      ],
      "metadata": {
        "colab": {
          "base_uri": "https://localhost:8080/"
        },
        "id": "xHyU5aevpwzl",
        "outputId": "b6e67006-df9b-464b-d7e6-84c33dd5df32"
      },
      "execution_count": null,
      "outputs": [
        {
          "output_type": "execute_result",
          "data": {
            "text/plain": [
              "[Synset('pretty.s.01'), Synset('pretty.s.02')]"
            ]
          },
          "metadata": {},
          "execution_count": 71
        }
      ]
    },
    {
      "cell_type": "code",
      "source": [
        "print(wn.synsets(\"pretty\")[0].definition())\n",
        "print(wn.synsets(\"pretty\")[1].definition())\n",
        "pretty_synset = wn.synsets(\"pretty\")[0]"
      ],
      "metadata": {
        "colab": {
          "base_uri": "https://localhost:8080/"
        },
        "id": "foJeB4k1p8M7",
        "outputId": "52421cc2-91a6-42c6-9d09-202ecaaf529b"
      },
      "execution_count": null,
      "outputs": [
        {
          "output_type": "stream",
          "name": "stdout",
          "text": [
            "pleasing by delicacy or grace; not imposing\n",
            "(used ironically) unexpectedly bad\n"
          ]
        }
      ]
    },
    {
      "cell_type": "code",
      "source": [
        "wn.synsets(\"pretty\")[1].examples()"
      ],
      "metadata": {
        "colab": {
          "base_uri": "https://localhost:8080/"
        },
        "id": "bK2vn-HUaiCr",
        "outputId": "fb26a77f-5fff-4f59-8342-fbd90dc51e33"
      },
      "execution_count": null,
      "outputs": [
        {
          "output_type": "execute_result",
          "data": {
            "text/plain": [
              "['a pretty mess', 'a pretty kettle of fish']"
            ]
          },
          "metadata": {},
          "execution_count": 73
        }
      ]
    },
    {
      "cell_type": "code",
      "source": [
        "pretty_synset.definition()"
      ],
      "metadata": {
        "colab": {
          "base_uri": "https://localhost:8080/",
          "height": 36
        },
        "id": "FkwrbUxdv6-V",
        "outputId": "8f7e6bb9-85ec-462f-a0b2-616848f4b631"
      },
      "execution_count": null,
      "outputs": [
        {
          "output_type": "execute_result",
          "data": {
            "text/plain": [
              "'pleasing by delicacy or grace; not imposing'"
            ],
            "application/vnd.google.colaboratory.intrinsic+json": {
              "type": "string"
            }
          },
          "metadata": {},
          "execution_count": 74
        }
      ]
    },
    {
      "cell_type": "code",
      "source": [
        "lemmas = wn.synsets(\"good\", pos='a')[0].lemmas()\n",
        "for l in lemmas:\n",
        "  print(l.antonyms())"
      ],
      "metadata": {
        "colab": {
          "base_uri": "https://localhost:8080/"
        },
        "id": "MX-ckQZiwFVP",
        "outputId": "63a1369b-de34-486d-955f-b776e866753e"
      },
      "execution_count": null,
      "outputs": [
        {
          "output_type": "stream",
          "name": "stdout",
          "text": [
            "[Lemma('bad.a.01.bad')]\n"
          ]
        }
      ]
    },
    {
      "cell_type": "code",
      "source": [
        "lemmas = sum([s.lemmas() for s in wn.synsets(\"good\")], [])\n",
        "for l in lemmas:\n",
        "  print(l.antonyms())"
      ],
      "metadata": {
        "colab": {
          "base_uri": "https://localhost:8080/"
        },
        "id": "nkVLPxvegy_w",
        "outputId": "04b45d4c-58e3-4143-ba51-4094d1bd652b"
      },
      "execution_count": null,
      "outputs": [
        {
          "output_type": "stream",
          "name": "stdout",
          "text": [
            "[]\n",
            "[Lemma('evil.n.03.evil')]\n",
            "[Lemma('evil.n.03.evilness')]\n",
            "[Lemma('bad.n.01.bad')]\n",
            "[Lemma('bad.n.01.badness')]\n",
            "[]\n",
            "[]\n",
            "[]\n",
            "[Lemma('bad.a.01.bad')]\n",
            "[]\n",
            "[]\n",
            "[Lemma('evil.a.01.evil')]\n",
            "[]\n",
            "[]\n",
            "[]\n",
            "[]\n",
            "[]\n",
            "[]\n",
            "[]\n",
            "[]\n",
            "[]\n",
            "[]\n",
            "[]\n",
            "[]\n",
            "[]\n",
            "[]\n",
            "[]\n",
            "[]\n",
            "[]\n",
            "[]\n",
            "[]\n",
            "[]\n",
            "[]\n",
            "[]\n",
            "[]\n",
            "[]\n",
            "[]\n",
            "[]\n",
            "[]\n",
            "[]\n",
            "[]\n",
            "[]\n",
            "[]\n",
            "[]\n",
            "[]\n",
            "[]\n",
            "[]\n",
            "[]\n",
            "[]\n",
            "[]\n",
            "[]\n",
            "[]\n",
            "[]\n",
            "[]\n",
            "[]\n",
            "[]\n",
            "[]\n",
            "[]\n",
            "[]\n",
            "[]\n",
            "[Lemma('ill.r.01.ill')]\n",
            "[]\n",
            "[]\n",
            "[]\n",
            "[]\n"
          ]
        }
      ]
    },
    {
      "cell_type": "code",
      "source": [
        "lemmas = wn.synsets(\"good\")[1].lemmas()\n",
        "for l in lemmas:\n",
        "  print(l.antonyms())"
      ],
      "metadata": {
        "id": "3NBS5Xzxgeyx",
        "colab": {
          "base_uri": "https://localhost:8080/"
        },
        "outputId": "bcc3f10c-e526-4621-9d63-95fe4e5804b2"
      },
      "execution_count": null,
      "outputs": [
        {
          "output_type": "stream",
          "name": "stdout",
          "text": [
            "[Lemma('evil.n.03.evil')]\n",
            "[Lemma('evil.n.03.evilness')]\n"
          ]
        }
      ]
    },
    {
      "cell_type": "code",
      "source": [],
      "metadata": {
        "id": "tU-mLcfYhoDn"
      },
      "execution_count": null,
      "outputs": []
    },
    {
      "cell_type": "markdown",
      "source": [
        "## Morphological forms\n",
        "\n"
      ],
      "metadata": {
        "id": "yXfyMGDrqb9C"
      }
    },
    {
      "cell_type": "code",
      "source": [
        "wn.morphy(\"walking\", pos=\"v\")"
      ],
      "metadata": {
        "colab": {
          "base_uri": "https://localhost:8080/",
          "height": 36
        },
        "id": "LS35D38Qr6aP",
        "outputId": "e007d05e-acf9-4b48-a8b3-6be1e0c0b38c"
      },
      "execution_count": null,
      "outputs": [
        {
          "output_type": "execute_result",
          "data": {
            "text/plain": [
              "'walk'"
            ],
            "application/vnd.google.colaboratory.intrinsic+json": {
              "type": "string"
            }
          },
          "metadata": {},
          "execution_count": 78
        }
      ]
    },
    {
      "cell_type": "code",
      "source": [
        "wn.morphy(\"was\", pos=\"v\")"
      ],
      "metadata": {
        "id": "xgr45-tewbeP",
        "colab": {
          "base_uri": "https://localhost:8080/",
          "height": 36
        },
        "outputId": "334a0266-2877-4b8d-c3e9-e7a83cce73db"
      },
      "execution_count": null,
      "outputs": [
        {
          "output_type": "execute_result",
          "data": {
            "text/plain": [
              "'be'"
            ],
            "application/vnd.google.colaboratory.intrinsic+json": {
              "type": "string"
            }
          },
          "metadata": {},
          "execution_count": 79
        }
      ]
    },
    {
      "cell_type": "markdown",
      "metadata": {
        "id": "ToJO9XtZ2I7o"
      },
      "source": [
        "## Other languages"
      ]
    },
    {
      "cell_type": "markdown",
      "source": [
        "### Open Multilingual WordNet\n"
      ],
      "metadata": {
        "id": "XaZ9REw74JPo"
      }
    },
    {
      "cell_type": "code",
      "source": [
        "download('omw-1.4')"
      ],
      "metadata": {
        "colab": {
          "base_uri": "https://localhost:8080/"
        },
        "id": "g0qrh7ah3_nK",
        "outputId": "6b03640a-f650-4d45-8a8c-3e739d6f3f7d"
      },
      "execution_count": null,
      "outputs": [
        {
          "output_type": "stream",
          "name": "stderr",
          "text": [
            "[nltk_data] Downloading package omw-1.4 to /root/nltk_data...\n"
          ]
        },
        {
          "output_type": "execute_result",
          "data": {
            "text/plain": [
              "True"
            ]
          },
          "metadata": {},
          "execution_count": 80
        }
      ]
    },
    {
      "cell_type": "code",
      "execution_count": null,
      "metadata": {
        "colab": {
          "base_uri": "https://localhost:8080/"
        },
        "id": "-7wi3QUp2I7p",
        "outputId": "68c99851-05e6-40c7-99f1-97d2e5ed18b0"
      },
      "outputs": [
        {
          "output_type": "execute_result",
          "data": {
            "text/plain": [
              "['eng']"
            ]
          },
          "metadata": {},
          "execution_count": 81
        }
      ],
      "source": [
        "sorted(wn.langs())"
      ]
    },
    {
      "cell_type": "code",
      "execution_count": null,
      "metadata": {
        "colab": {
          "base_uri": "https://localhost:8080/"
        },
        "id": "P9nfAtop2I7q",
        "outputId": "c2fd10b9-cef8-40f8-888f-806b00c42ece"
      },
      "outputs": [
        {
          "output_type": "execute_result",
          "data": {
            "text/plain": [
              "['alevín',\n",
              " 'chaval',\n",
              " 'chico',\n",
              " 'chiquillo',\n",
              " 'chiqüelo',\n",
              " 'criatura',\n",
              " 'cría',\n",
              " 'crío',\n",
              " 'jovenzuelo',\n",
              " 'menor_de_edad',\n",
              " 'mozalbete',\n",
              " 'muchachuelo',\n",
              " 'nene',\n",
              " 'niño',\n",
              " 'pececillo']"
            ]
          },
          "metadata": {},
          "execution_count": 82
        }
      ],
      "source": [
        "spanish_lemmas = kid_synsets[0].lemmas(lang='spa')\n",
        "[l.name() for l in spanish_lemmas]"
      ]
    },
    {
      "cell_type": "code",
      "source": [
        "from nltk.corpus import wordnet as wn\n",
        "wn.langs()"
      ],
      "metadata": {
        "colab": {
          "base_uri": "https://localhost:8080/"
        },
        "id": "_kif5BbEk_2H",
        "outputId": "aedeaab6-7178-4c4b-e07a-bacaa8685325"
      },
      "execution_count": null,
      "outputs": [
        {
          "output_type": "execute_result",
          "data": {
            "text/plain": [
              "['eng',\n",
              " 'als',\n",
              " 'arb',\n",
              " 'bul',\n",
              " 'cmn',\n",
              " 'dan',\n",
              " 'ell',\n",
              " 'fin',\n",
              " 'fra',\n",
              " 'heb',\n",
              " 'hrv',\n",
              " 'isl',\n",
              " 'ita',\n",
              " 'ita_iwn',\n",
              " 'jpn',\n",
              " 'cat',\n",
              " 'eus',\n",
              " 'glg',\n",
              " 'spa',\n",
              " 'ind',\n",
              " 'zsm',\n",
              " 'nld',\n",
              " 'nno',\n",
              " 'nob',\n",
              " 'pol',\n",
              " 'por',\n",
              " 'ron',\n",
              " 'lit',\n",
              " 'slk',\n",
              " 'slv',\n",
              " 'swe',\n",
              " 'tha']"
            ]
          },
          "metadata": {},
          "execution_count": 83
        }
      ]
    },
    {
      "cell_type": "markdown",
      "source": [
        "#### Romanian\n",
        "\n",
        "Romanian WordNet: https://github.com/dumitrescustefan/RoWordNet"
      ],
      "metadata": {
        "id": "96qilkNnDJl2"
      }
    },
    {
      "cell_type": "code",
      "source": [
        "!pip install rowordnet\n",
        "import rowordnet\n",
        "rown = rowordnet.RoWordNet()\n"
      ],
      "metadata": {
        "colab": {
          "base_uri": "https://localhost:8080/"
        },
        "id": "SadfhJ2JDLss",
        "outputId": "cfbf1578-2f92-4b68-e564-9de3f819b4cb"
      },
      "execution_count": null,
      "outputs": [
        {
          "output_type": "stream",
          "name": "stdout",
          "text": [
            "Looking in indexes: https://pypi.org/simple, https://us-python.pkg.dev/colab-wheels/public/simple/\n",
            "Collecting rowordnet\n",
            "  Downloading rowordnet-1.1.0-py3-none-any.whl (11.8 MB)\n",
            "\u001b[2K     \u001b[90m━━━━━━━━━━━━━━━━━━━━━━━━━━━━━━━━━━━━━━━━\u001b[0m \u001b[32m11.8/11.8 MB\u001b[0m \u001b[31m15.3 MB/s\u001b[0m eta \u001b[36m0:00:00\u001b[0m\n",
            "\u001b[?25hRequirement already satisfied: lxml in /usr/local/lib/python3.9/dist-packages (from rowordnet) (4.9.2)\n",
            "Requirement already satisfied: networkx in /usr/local/lib/python3.9/dist-packages (from rowordnet) (3.1)\n",
            "Installing collected packages: rowordnet\n",
            "Successfully installed rowordnet-1.1.0\n"
          ]
        }
      ]
    },
    {
      "cell_type": "code",
      "source": [
        "word = 'arbore'\n",
        "synset_ids = rown.synsets(literal=word)\n",
        "print(\"Total number of synsets containing literal '{}': {}\".format(word, len(synset_ids)))\n",
        "print(synset_ids)"
      ],
      "metadata": {
        "colab": {
          "base_uri": "https://localhost:8080/"
        },
        "id": "PpRcagfPDQ72",
        "outputId": "1035d8ed-4e93-4663-b6f3-f15f1a99dc3a"
      },
      "execution_count": null,
      "outputs": [
        {
          "output_type": "stream",
          "name": "stdout",
          "text": [
            "Total number of synsets containing literal 'arbore': 23\n",
            "['ENG30-08102402-n', 'ENG30-12339526-n', 'ENG30-03726760-n', 'ENG30-13912260-n', 'ENG30-12752039-n', 'ENG30-13104059-n', 'ENG30-02946824-n', 'ENG30-02946824-n', 'ENG30-12402840-n', 'ENG30-12690653-n', 'ENG30-12662772-n', 'ENG30-12662772-n', 'ENG30-03127408-n', 'ENG30-11712282-n', 'ENG30-11704791-n', 'ENG30-11640132-n', 'ENG30-12334293-n', 'ENG30-03244231-n', 'ENG30-04472563-n', 'ENG30-04111190-n', 'ENG30-04111190-n', 'ENG30-13111174-n', 'ENG30-04316924-n']\n"
          ]
        }
      ]
    },
    {
      "cell_type": "code",
      "source": [
        "synset_id = synset_ids[4]\n",
        "rown.print_synset(synset_id)"
      ],
      "metadata": {
        "colab": {
          "base_uri": "https://localhost:8080/"
        },
        "id": "BndAAh8XUNfA",
        "outputId": "883c065a-4cda-4d29-8fe2-2bcfd852f1ec"
      },
      "execution_count": null,
      "outputs": [
        {
          "output_type": "stream",
          "name": "stdout",
          "text": [
            "Synset: \n",
            "\t  id=ENG30-12752039-n\n",
            "\t  pos=NOUN\n",
            "\t  nonlexicalized=None\n",
            "\t  stamp=None\n",
            "\t  domain=biology\n",
            "\t  definition=Expresie : (Aceraceae); arbore sau arbust din acest gen;\n",
            "\t  sumo=FloweringPlant \n",
            "\t  sumoType=HYPERNYM\n",
            "\t  sentiwn=[0.0, 0.0, 1.0]\n",
            "\t  Literals:\n",
            "\t\t  arbore - 2.6\n",
            "\t\t  arbust - 3.1\n",
            "\t  Outbound relations: \n",
            "\t\t  ENG30-11567411-n - hypernym\n",
            "\t\t  ENG30-12752205-n - member_meronym\n",
            "\t  Inbound relations: \n",
            "\t\t  ENG30-12752205-n - member_holonym\n",
            "\t\t  ENG30-11567411-n - hyponym\n"
          ]
        }
      ]
    },
    {
      "cell_type": "code",
      "source": [
        "synset_object = rown.synset(synset_id)\n",
        "print(synset_object)\n",
        "synset_object = rown(synset_id)\n",
        "print(synset_object)"
      ],
      "metadata": {
        "colab": {
          "base_uri": "https://localhost:8080/"
        },
        "id": "o9dVtoYnURgm",
        "outputId": "8dd27b37-fbf9-469e-b094-d150c1fc2a0e"
      },
      "execution_count": null,
      "outputs": [
        {
          "output_type": "stream",
          "name": "stdout",
          "text": [
            "Synset(id='ENG30-12752039-n', literals=['arbore', 'arbust'], definition='Expresie : (Aceraceae); arbore sau arbust din acest gen;')\n",
            "Synset(id='ENG30-12752039-n', literals=['arbore', 'arbust'], definition='Expresie : (Aceraceae); arbore sau arbust din acest gen;')\n"
          ]
        }
      ]
    },
    {
      "cell_type": "code",
      "source": [
        "literals = synset_object.literals\n",
        "print(\"Synset with id {} has {} literals: {}\".format(synset_object.id, len(literals), literals))"
      ],
      "metadata": {
        "colab": {
          "base_uri": "https://localhost:8080/"
        },
        "id": "mmc1A1tMUSIf",
        "outputId": "b9c880cb-e966-40a2-a9bc-d8b67f684391"
      },
      "execution_count": null,
      "outputs": [
        {
          "output_type": "stream",
          "name": "stdout",
          "text": [
            "Synset with id ENG30-12752039-n has 2 literals: ['arbore', 'arbust']\n"
          ]
        }
      ]
    },
    {
      "cell_type": "code",
      "source": [
        "definition = synset_object.definition\n",
        "print(\"Defitionion of the synset with id {}: {}\".format(synset_object.id, definition))\n",
        "new_definition = \"This is a new defition\"\n",
        "synset_object.definition = new_definition\n",
        "print(\"New definition of the synset with id {}: {}\".format(synset_object.id, synset_object.definition))"
      ],
      "metadata": {
        "colab": {
          "base_uri": "https://localhost:8080/"
        },
        "id": "fMvAiftdUVi-",
        "outputId": "8cf985dd-330c-4130-b709-52f4f1db3808"
      },
      "execution_count": null,
      "outputs": [
        {
          "output_type": "stream",
          "name": "stdout",
          "text": [
            "Defitionion of the synset with id ENG30-12752039-n: Expresie : (Aceraceae); arbore sau arbust din acest gen;\n",
            "New definition of the synset with id ENG30-12752039-n: This is a new defition\n"
          ]
        }
      ]
    },
    {
      "cell_type": "code",
      "source": [
        "synsets_id = rown.synsets()\n",
        "print(\"Total number of synsets: {} \\n\".format(len(synsets_id)))"
      ],
      "metadata": {
        "colab": {
          "base_uri": "https://localhost:8080/"
        },
        "id": "LclAOYJyUWH4",
        "outputId": "e935e6f1-5ba1-4f47-e70e-373a0f3b22dc"
      },
      "execution_count": null,
      "outputs": [
        {
          "output_type": "stream",
          "name": "stdout",
          "text": [
            "Total number of synsets: 59348 \n",
            "\n"
          ]
        }
      ]
    },
    {
      "cell_type": "code",
      "source": [
        "from rowordnet import Synset\n",
        "\n",
        "# return all noun synsets\n",
        "synsets_id_nouns = rown.synsets(pos=Synset.Pos.NOUN)\n",
        "print(\"Total number of noun synsets: {}\".format(len(synsets_id_nouns)))\n",
        "# return all verb synsets\n",
        "synsets_id_verbs = rown.synsets(pos=Synset.Pos.VERB)\n",
        "print(\"Total number of verb synsets: {}\".format(len(synsets_id_verbs)))\n",
        "# return all adjective synsets\n",
        "synsets_id_adjectives = rown.synsets(pos=Synset.Pos.ADJECTIVE)\n",
        "print(\"Total number of adjective synsets: {}\".format(len(synsets_id_adjectives)))\n",
        "# return all adverb synsets\n",
        "synsets_id_adverbs = rown.synsets(pos=Synset.Pos.ADVERB)\n",
        "print(\"Total number of adverb synsets: {}\".format(len(synsets_id_adverbs)))"
      ],
      "metadata": {
        "colab": {
          "base_uri": "https://localhost:8080/"
        },
        "id": "G8NS0xC2UXs3",
        "outputId": "b0ec8901-890b-4730-d40c-c67435774a4b"
      },
      "execution_count": null,
      "outputs": [
        {
          "output_type": "stream",
          "name": "stdout",
          "text": [
            "Total number of noun synsets: 41063\n",
            "Total number of verb synsets: 10397\n",
            "Total number of adjective synsets: 4822\n",
            "Total number of adverb synsets: 3066\n"
          ]
        }
      ]
    },
    {
      "cell_type": "code",
      "source": [
        "# Match with English synset\n",
        "matched_acer_synset = wn.synset_from_pos_and_offset('n', 12752039)\n",
        "matched_acer_synset.definition()"
      ],
      "metadata": {
        "colab": {
          "base_uri": "https://localhost:8080/",
          "height": 36
        },
        "id": "cmUgZQwjxIrO",
        "outputId": "ddc4fee9-1419-4332-c1ca-b3523e144345"
      },
      "execution_count": null,
      "outputs": [
        {
          "output_type": "execute_result",
          "data": {
            "text/plain": [
              "'type genus of the Aceraceae; trees or shrubs having winged fruit'"
            ],
            "application/vnd.google.colaboratory.intrinsic+json": {
              "type": "string"
            }
          },
          "metadata": {},
          "execution_count": 92
        }
      ]
    },
    {
      "cell_type": "markdown",
      "source": [
        "## Distances"
      ],
      "metadata": {
        "id": "svFnn0bCytaq"
      }
    },
    {
      "cell_type": "markdown",
      "source": [
        "\"Leacock-Chodorow Similarity: Return a score denoting how similar two word senses are, based on the shortest path that connects the senses \""
      ],
      "metadata": {
        "id": "6bAwtOzo2ztg"
      }
    },
    {
      "cell_type": "markdown",
      "source": [
        "\n",
        "https://www.academia.edu/download/4162626/10.1.1.29.2985.pdf"
      ],
      "metadata": {
        "id": "_V8KCxhAE5Sn"
      }
    },
    {
      "cell_type": "code",
      "source": [
        "tree_synset.lch_similarity(matched_acer_synset, verbose=True)"
      ],
      "metadata": {
        "colab": {
          "base_uri": "https://localhost:8080/"
        },
        "id": "GJFV2W0VyvB7",
        "outputId": "18ff07a9-98fa-4b18-b811-c604e1e83c81"
      },
      "execution_count": null,
      "outputs": [
        {
          "output_type": "execute_result",
          "data": {
            "text/plain": [
              "0.8043728156701697"
            ]
          },
          "metadata": {},
          "execution_count": 93
        }
      ]
    },
    {
      "cell_type": "code",
      "source": [
        "tree_synset.lch_similarity??"
      ],
      "metadata": {
        "id": "4YmBXvFSlBtZ"
      },
      "execution_count": null,
      "outputs": []
    },
    {
      "cell_type": "code",
      "source": [
        "human_synset.lch_similarity(bird_synset,  verbose=True)"
      ],
      "metadata": {
        "colab": {
          "base_uri": "https://localhost:8080/"
        },
        "id": "pouEuhbgy-EV",
        "outputId": "98af9190-3a68-484c-e43b-009b63cb0dc1"
      },
      "execution_count": null,
      "outputs": [
        {
          "output_type": "execute_result",
          "data": {
            "text/plain": [
              "1.6916760106710724"
            ]
          },
          "metadata": {},
          "execution_count": 95
        }
      ]
    },
    {
      "cell_type": "code",
      "source": [
        "human_synset.lch_similarity(wn.synsets('monkey')[0],  verbose=True)"
      ],
      "metadata": {
        "colab": {
          "base_uri": "https://localhost:8080/"
        },
        "id": "EKS80e7VEDs8",
        "outputId": "a410cd78-4c87-4cb0-e0e0-8f804e725e52"
      },
      "execution_count": null,
      "outputs": [
        {
          "output_type": "execute_result",
          "data": {
            "text/plain": [
              "2.2512917986064953"
            ]
          },
          "metadata": {},
          "execution_count": 96
        }
      ]
    },
    {
      "cell_type": "code",
      "source": [
        "human_synset.lch_similarity(wn.synsets('god')[2],  verbose=True)"
      ],
      "metadata": {
        "colab": {
          "base_uri": "https://localhost:8080/"
        },
        "id": "n0ikHQhtlXeo",
        "outputId": "3863ac20-81b9-43bb-ac31-46021d3bd261"
      },
      "execution_count": null,
      "outputs": [
        {
          "output_type": "execute_result",
          "data": {
            "text/plain": [
              "1.072636802264849"
            ]
          },
          "metadata": {},
          "execution_count": 97
        }
      ]
    },
    {
      "cell_type": "code",
      "source": [
        "human_synset.lch_similarity(tree_synset)"
      ],
      "metadata": {
        "colab": {
          "base_uri": "https://localhost:8080/"
        },
        "id": "-ZAfItx9EJ-a",
        "outputId": "52116ffc-af2d-4d3e-d04e-79b4af17f847"
      },
      "execution_count": null,
      "outputs": [
        {
          "output_type": "execute_result",
          "data": {
            "text/plain": [
              "1.072636802264849"
            ]
          },
          "metadata": {},
          "execution_count": 98
        }
      ]
    },
    {
      "cell_type": "code",
      "source": [
        "tree_synset.lch_similarity(wn.synsets('god')[2],  verbose=True)"
      ],
      "metadata": {
        "colab": {
          "base_uri": "https://localhost:8080/"
        },
        "id": "OY8C9KD1lsep",
        "outputId": "3bd72e9c-5cc6-4349-98d3-7b3ba6dfc634"
      },
      "execution_count": null,
      "outputs": [
        {
          "output_type": "execute_result",
          "data": {
            "text/plain": [
              "1.4403615823901665"
            ]
          },
          "metadata": {},
          "execution_count": 99
        }
      ]
    },
    {
      "cell_type": "code",
      "source": [
        "tree_synset.lch_similarity(human_synset)"
      ],
      "metadata": {
        "colab": {
          "base_uri": "https://localhost:8080/"
        },
        "id": "NgN7IsVKDtOz",
        "outputId": "2ca00fb4-9bba-4c4e-8220-7b465e8dfc79"
      },
      "execution_count": null,
      "outputs": [
        {
          "output_type": "execute_result",
          "data": {
            "text/plain": [
              "1.072636802264849"
            ]
          },
          "metadata": {},
          "execution_count": 100
        }
      ]
    },
    {
      "cell_type": "code",
      "source": [
        "tree_synset.jcn_similarity??"
      ],
      "metadata": {
        "id": "8pCvfIl3EPaZ"
      },
      "execution_count": null,
      "outputs": []
    },
    {
      "cell_type": "code",
      "source": [
        "tree_synset.res_similarity??"
      ],
      "metadata": {
        "id": "OEJLT87ZET4O"
      },
      "execution_count": null,
      "outputs": []
    },
    {
      "cell_type": "markdown",
      "source": [
        "# Exercises (1p)"
      ],
      "metadata": {
        "id": "d-zfzm9l4TNd"
      }
    },
    {
      "cell_type": "markdown",
      "source": [
        "1. Write a function that returns all synonyms for a word in WordNet, given the word string and its language. Return as a list of strings, irrespective of the sense of each word (if word has multiple senses, all synonyms are stil grouped together)"
      ],
      "metadata": {
        "id": "YOvawZcFU3v1"
      }
    },
    {
      "cell_type": "code",
      "source": [
        "from nltk import download\n",
        "download('wordnet')\n",
        "download('omw-1.4')\n",
        "\n",
        "from nltk.corpus import wordnet as wn"
      ],
      "metadata": {
        "id": "-bfjVLHP4U3O",
        "colab": {
          "base_uri": "https://localhost:8080/"
        },
        "outputId": "44bee12b-93ce-4bad-a8a6-85ff0db810a5"
      },
      "execution_count": null,
      "outputs": [
        {
          "output_type": "stream",
          "name": "stderr",
          "text": [
            "[nltk_data] Downloading package wordnet to /root/nltk_data...\n",
            "[nltk_data]   Package wordnet is already up-to-date!\n",
            "[nltk_data] Downloading package omw-1.4 to /root/nltk_data...\n",
            "[nltk_data]   Package omw-1.4 is already up-to-date!\n"
          ]
        }
      ]
    },
    {
      "cell_type": "code",
      "source": [
        "def get_synonyms(word, lang):\n",
        "  synonyms = []\n",
        "  for synset in wn.synsets(word, lang=lang):\n",
        "    for lemma in synset.lemmas(lang=lang):\n",
        "      if lemma.name() == word:\n",
        "        continue\n",
        "      else:\n",
        "        synonyms.append(lemma.name())\n",
        "  return synonyms"
      ],
      "metadata": {
        "id": "6yW6ePyynHlZ"
      },
      "execution_count": null,
      "outputs": []
    },
    {
      "cell_type": "code",
      "source": [
        "child_syn_eng =get_synonyms(word=\"small\", lang=\"eng\")\n",
        "print(f\"All english synonyms for word - child - {child_syn_eng}\")\n",
        "child_syn_spanish =get_synonyms(word=\"chico\", lang=\"spa\")\n",
        "print(f\"Todos los sinónimos de español para palabra - chico - {child_syn_spanish}\")\n"
      ],
      "metadata": {
        "colab": {
          "base_uri": "https://localhost:8080/"
        },
        "id": "0pi3JQ_Iof6j",
        "outputId": "776bc6d2-474b-4cc7-cfee-39011ce3bbff"
      },
      "execution_count": null,
      "outputs": [
        {
          "output_type": "stream",
          "name": "stdout",
          "text": [
            "All english synonyms for word - child - ['little', 'minor', 'modest', 'small-scale', 'pocket-size', 'pocket-sized', 'little', 'humble', 'low', 'lowly', 'modest', 'little', 'minuscule', 'little', 'modest', 'belittled', 'diminished']\n",
            "Todos los sinónimos de español para palabra - chico - ['diminuto', 'enano', 'insignificante', 'minúsculo', 'alevín', 'chaval', 'chiquillo', 'chiqüelo', 'criatura', 'cría', 'crío', 'jovenzuelo', 'menor_de_edad', 'mozalbete', 'muchachuelo', 'nene', 'niño', 'pececillo', 'chaval', 'garzón', 'joven', 'mozo', 'muchacho', 'niño', 'niño_varón']\n"
          ]
        }
      ]
    },
    {
      "cell_type": "markdown",
      "source": [
        "2. Write a function that retrieves the \"translation\" of an English word to a different language (one supported by OMW), according to WordNet. (could return multiple words)"
      ],
      "metadata": {
        "id": "LtL5GHCXVQl3"
      }
    },
    {
      "cell_type": "code",
      "source": [
        "from nltk.corpus import wordnet as wn\n",
        "\n",
        "def get_translation(word, language):\n",
        "  synsets = wn.synsets(word)\n",
        "\n",
        "  if synsets:\n",
        "    synset = synsets[0]\n",
        "    lemma = synset.lemmas(lang=language)[0]\n",
        "    return lemma.name()\n",
        "  else:\n",
        "    return 'not in the vocab!'\n",
        "\n",
        "\n",
        "translated_word = get_translation('kid', 'spa')\n",
        "print(translated_word)\n"
      ],
      "metadata": {
        "id": "0VM-ZaiTVP49",
        "colab": {
          "base_uri": "https://localhost:8080/"
        },
        "outputId": "2d78045b-253f-4867-80f8-ceffdcf82be4"
      },
      "execution_count": null,
      "outputs": [
        {
          "output_type": "stream",
          "name": "stdout",
          "text": [
            "alevín\n"
          ]
        }
      ]
    },
    {
      "cell_type": "markdown",
      "source": [
        "3. Write a function that retrieves the \"sibling\" terms of a noun in WordNet. A sister term is one that shares a hypernym. (e.g. \"oak tree\" and \"fir tree\")."
      ],
      "metadata": {
        "id": "ORzpzklLVbnH"
      }
    },
    {
      "cell_type": "code",
      "source": [
        "def get_siblings(noun):\n",
        "  synsets = wn.synsets(noun, pos='n')\n",
        "\n",
        "  hypernyms = synsets[0].hypernyms()\n",
        "\n",
        "  if hypernyms == []:\n",
        "    return 'No hypernyms found '\n",
        "\n",
        "  siblings = []\n",
        "  for hypernym in hypernyms:\n",
        "    for hyponym in hypernym.hyponyms():\n",
        "      siblings.append(hyponym.lemma_names())\n",
        "\n",
        "  return siblings"
      ],
      "metadata": {
        "id": "6ixS2CXSV4Yp"
      },
      "execution_count": null,
      "outputs": []
    },
    {
      "cell_type": "code",
      "source": [
        "get_siblings(\"tree\")"
      ],
      "metadata": {
        "colab": {
          "base_uri": "https://localhost:8080/"
        },
        "id": "QcSvOLZW3Wfc",
        "outputId": "3590e629-c69a-44e3-e7c9-f85c42f65415"
      },
      "execution_count": null,
      "outputs": [
        {
          "output_type": "execute_result",
          "data": {
            "text/plain": [
              "[['aralia'],\n",
              " ['arborescent_plant'],\n",
              " ['bignoniad'],\n",
              " ['bramble'],\n",
              " ['bugbane'],\n",
              " ['bush_clover', 'lespedeza'],\n",
              " ['combretum'],\n",
              " ['figwort'],\n",
              " ['gesneriad'],\n",
              " ['lignosae'],\n",
              " ['lupine', 'lupin'],\n",
              " ['melilotus', 'melilot', 'sweet_clover'],\n",
              " ['milk_vetch', 'milk-vetch'],\n",
              " ['nightshade'],\n",
              " ['Queensland_grass-cloth_plant', 'Pipturus_argenteus'],\n",
              " ['shrub', 'bush'],\n",
              " [\"traveler's_tree\",\n",
              "  \"traveller's_tree\",\n",
              "  'ravenala',\n",
              "  'Ravenala_madagascariensis'],\n",
              " ['tree'],\n",
              " ['wild_indigo', 'false_indigo']]"
            ]
          },
          "metadata": {},
          "execution_count": 108
        }
      ]
    },
    {
      "cell_type": "markdown",
      "source": [
        "4. Write a function that computes the degree of polysemy for a word, as the number of synsets it belongs to."
      ],
      "metadata": {
        "id": "ZGPzNWbeV4r6"
      }
    },
    {
      "cell_type": "code",
      "source": [
        "def get_polysemy(word):\n",
        "  return len(wn.synsets(word))\n",
        "\n",
        "get_polysemy(\"cat\")"
      ],
      "metadata": {
        "id": "1p1J0CySVbHf",
        "colab": {
          "base_uri": "https://localhost:8080/"
        },
        "outputId": "ed7aecf2-ebac-4755-c561-68812a6aea5b"
      },
      "execution_count": null,
      "outputs": [
        {
          "output_type": "execute_result",
          "data": {
            "text/plain": [
              "10"
            ]
          },
          "metadata": {},
          "execution_count": 109
        }
      ]
    },
    {
      "cell_type": "markdown",
      "source": [
        "5. Select a few paragraphs of text from a NLTK corpus. Build a vocabulary containing all the unique word forms found in the text. Using the function above, compute the polysemy degree of each word. Illustrate the distribution of polysemy using a histogram."
      ],
      "metadata": {
        "id": "DpcWEUNoXpTN"
      }
    },
    {
      "cell_type": "code",
      "source": [
        "import pandas as pd\n",
        "# pd.Series([]).hist(...)"
      ],
      "metadata": {
        "id": "0JUbqi5RYOCm"
      },
      "execution_count": null,
      "outputs": []
    },
    {
      "cell_type": "code",
      "source": [
        "import nltk\n",
        "from nltk.corpus import brown\n",
        "\n",
        "nltk.download('brown')\n",
        "corpus = brown.words()[:200]\n",
        "\n",
        "text = set(corpus)\n",
        "\n",
        "\n",
        "polysemy = [get_polysemy(word) for word in text]\n",
        "\n",
        "pd.Series(polysemy).hist()\n"
      ],
      "metadata": {
        "colab": {
          "base_uri": "https://localhost:8080/",
          "height": 485
        },
        "id": "K6dMb4ZH7syU",
        "outputId": "09d93b8f-6065-489a-c212-74ad72e33adc"
      },
      "execution_count": null,
      "outputs": [
        {
          "output_type": "stream",
          "name": "stderr",
          "text": [
            "[nltk_data] Downloading package brown to /root/nltk_data...\n",
            "[nltk_data]   Unzipping corpora/brown.zip.\n"
          ]
        },
        {
          "output_type": "execute_result",
          "data": {
            "text/plain": [
              "<Axes: >"
            ]
          },
          "metadata": {},
          "execution_count": 111
        },
        {
          "output_type": "display_data",
          "data": {
            "text/plain": [
              "<Figure size 640x480 with 1 Axes>"
            ],
            "image/png": "[encoded data removed]"
          },
          "metadata": {}
        }
      ]
    },
    {
      "cell_type": "markdown",
      "source": [
        "6. Write a function to compute the similarity between two words, using one of the similarity metrics defined in WordNet. If a word has more than one sense, use a method to aggregate the per-synset similarities (e.g. average the distance across all pairs).\n"
      ],
      "metadata": {
        "id": "QSvFkejLVorP"
      }
    },
    {
      "cell_type": "code",
      "source": [
        "from nltk.corpus import wordnet as wn\n",
        "\n",
        "def word_similarity(word1, word2):\n",
        "  synsets1 = wn.synsets(word1)\n",
        "  synsets2 = wn.synsets(word2)\n",
        "  similarity_score = 0\n",
        "\n",
        "  for synset1 in synsets1:\n",
        "    for synset2 in synsets2:\n",
        "      if synset1.pos() == synset2.pos():\n",
        "        if synset1.lch_similarity(synset2) is not None:\n",
        "          similarity_score += synset1.lch_similarity(synset2)\n",
        "\n",
        "  num_synsets = len(synsets1) + len(synsets2)\n",
        "  if num_synsets > 0:\n",
        "    similarity_score /= num_synsets\n",
        "\n",
        "  return similarity_score\n",
        "\n",
        "score = word_similarity('dog', 'puppy')\n",
        "print(score)\n"
      ],
      "metadata": {
        "id": "qhUKBLN9VbLg",
        "colab": {
          "base_uri": "https://localhost:8080/"
        },
        "outputId": "b5628deb-0219-4bf1-b418-7a3967164500"
      },
      "execution_count": null,
      "outputs": [
        {
          "output_type": "stream",
          "name": "stdout",
          "text": [
            "2.0192652561083384\n"
          ]
        }
      ]
    },
    {
      "cell_type": "markdown",
      "source": [
        "7. Compare with word2vec similarity. (Load an embeddings model to be able to retrieve similarities between words). Then take the vocabulary from Ex 5, or a custom vocabulary of your choice (e.g. the SimLex set of word pairs) and compute similarities between all word pairs using the function from Ex 6. Then compute the same similarities with word2vec, and finally compute the Spearman correlation between them."
      ],
      "metadata": {
        "id": "Cvu37eXhHATY"
      }
    },
    {
      "cell_type": "code",
      "source": [
        "import gensim.downloader\n",
        "embeddings_twitter = gensim.downloader.load('glove-twitter-25')\n"
      ],
      "metadata": {
        "id": "X6xt0BDdBlV1",
        "colab": {
          "base_uri": "https://localhost:8080/"
        },
        "outputId": "aa37bcd6-b157-4851-b174-eb4d48182d70"
      },
      "execution_count": null,
      "outputs": [
        {
          "output_type": "stream",
          "name": "stdout",
          "text": [
            "[==============================================----] 93.8% 98.3/104.8MB downloaded\n"
          ]
        }
      ]
    },
    {
      "cell_type": "code",
      "source": [
        "from nltk.tokenize import sent_tokenize, word_tokenize\n",
        "from scipy.stats import spearmanr\n",
        "\n",
        "\n",
        "corpus = ' '.join(brown.words()[:100])\n",
        "words = list(set(word for word in corpus))\n",
        "\n",
        "\n",
        "pairs = []\n",
        "for i in range(len(words)):\n",
        "    for j in range(i+1, len(words)):\n",
        "        pairs.append((words[i], words[j]))\n",
        "\n",
        "embeddings_sim = [embeddings_twitter.similarity(w1, w2) for w1, w2 in pairs if w1 in embeddings_twitter and w2 in embeddings_twitter]\n",
        "word_sim = [word_similarity(w1, w2) for w1, w2 in pairs if w1 in embeddings_twitter and w2 in embeddings_twitter]\n",
        "\n",
        "coef, p = spearmanr(word_sim, embeddings_sim)\n",
        "\n",
        "print(f\"Spearman Correlation: {coef}\")\n"
      ],
      "metadata": {
        "colab": {
          "base_uri": "https://localhost:8080/"
        },
        "id": "TQzPElEdEkOH",
        "outputId": "4ff4d440-2080-4146-8885-ab0dea22c389"
      },
      "execution_count": null,
      "outputs": [
        {
          "output_type": "stream",
          "name": "stdout",
          "text": [
            "Spearman Correlation: 0.47452671152387893\n"
          ]
        }
      ]
    },
    {
      "cell_type": "markdown",
      "source": [
        "8. Using the same text from exercise 5, select all nouns (according to WordNet, choose words which are part of any noun Synsets) and find their hypernyms. Reconstruct the text replacing each noun with one of its hypernyms. Is it coherent? Pinpoint some examples where the replacement did not make sense (in a text cell or a comment)"
      ],
      "metadata": {
        "id": "n0zbXERpVzAZ"
      }
    },
    {
      "cell_type": "code",
      "source": [
        "import nltk\n",
        "from nltk.corpus import wordnet as wn\n",
        "\n",
        "\n",
        "nltk.download('brown')"
      ],
      "metadata": {
        "id": "pBsNB9NVIRHX",
        "colab": {
          "base_uri": "https://localhost:8080/"
        },
        "outputId": "63e1a1ea-771c-4b37-fbac-1c41ba1c1506"
      },
      "execution_count": null,
      "outputs": [
        {
          "output_type": "stream",
          "name": "stderr",
          "text": [
            "[nltk_data] Downloading package brown to /root/nltk_data...\n",
            "[nltk_data]   Package brown is already up-to-date!\n"
          ]
        },
        {
          "output_type": "execute_result",
          "data": {
            "text/plain": [
              "True"
            ]
          },
          "metadata": {},
          "execution_count": 116
        }
      ]
    },
    {
      "cell_type": "code",
      "source": [
        "nltk.download('averaged_perceptron_tagger')\n",
        "corpus = nltk.corpus.brown.words()[:200]\n",
        "\n",
        "nouns = set()\n",
        "for word, pos in nltk.pos_tag(corpus):\n",
        "    if wn.synsets(word, pos=wn.NOUN):\n",
        "        nouns.add(word)\n",
        "\n",
        "reconstructed_corpus = []\n",
        "for word in corpus:\n",
        "    synsets = wn.synsets(word, pos=wn.NOUN)\n",
        "    if word in nouns and synsets:\n",
        "        if synsets[0].hypernyms():\n",
        "            hypernym = synsets[0].hypernyms()[0].name().split('.')[0]\n",
        "            reconstructed_corpus.append(hypernym)\n",
        "        else:\n",
        "            reconstructed_corpus.append(word)\n",
        "    else:\n",
        "        reconstructed_corpus.append(word)\n",
        "\n",
        "print('Original Corpus:')\n",
        "print(' '.join(corpus))\n",
        "print('\\nReconstructed Corpus:')\n",
        "print(' '.join(reconstructed_corpus))\n"
      ],
      "metadata": {
        "colab": {
          "base_uri": "https://localhost:8080/"
        },
        "id": "kWdvilujJZ_B",
        "outputId": "7d3f5458-c65b-4837-e085-99a54f5a1a7b"
      },
      "execution_count": null,
      "outputs": [
        {
          "output_type": "stream",
          "name": "stderr",
          "text": [
            "[nltk_data] Downloading package averaged_perceptron_tagger to\n",
            "[nltk_data]     /root/nltk_data...\n",
            "[nltk_data]   Unzipping taggers/averaged_perceptron_tagger.zip.\n"
          ]
        },
        {
          "output_type": "stream",
          "name": "stdout",
          "text": [
            "Original Corpus:\n",
            "The Fulton County Grand Jury said Friday an investigation of Atlanta's recent primary election produced `` no evidence '' that any irregularities took place . The jury further said in term-end presentments that the City Executive Committee , which had over-all charge of the election , `` deserves the praise and thanks of the City of Atlanta '' for the manner in which the election was conducted . The September-October term jury had been charged by Fulton Superior Court Judge Durwood Pye to investigate reports of possible `` irregularities '' in the hard-fought primary which was won by Mayor-nominate Ivan Allen Jr. . `` Only a relative handful of such reports was received '' , the jury said , `` considering the widespread interest in the election , the number of voters and the size of this city '' . The jury said it did find that many of Georgia's registration and election laws `` are outmoded or inadequate and often ambiguous '' . It recommended that Fulton legislators act `` to have these laws studied and revised to the end of modernizing and improving them '' . The grand jury commented on a number of other topics , among\n",
            "\n",
            "Reconstructed Corpus:\n",
            "The Fulton region large_integer body said weekday associate_degree inquiry of Atlanta's recent election vote produced `` negative information '' that any misbehavior took point . The body further said linear_unit term-end due_process that the municipality administrator administrative_unit , which had over-all attack of the vote , `` deserves the approval and acknowledgment of the municipality of Atlanta '' for the property linear_unit which the vote was conducted . The September-October word body had been charged by Fulton leader assembly adjudicator Durwood Pye to investigate document of possibility `` misbehavior '' linear_unit the hard-fought election which was south_korean_monetary_unit by Mayor-nominate Ivan Allen Jr. . `` Only metric_linear_unit person small_indefinite_quantity of such document was received '' , the body said , `` considering the widespread curiosity linear_unit the vote , the amount of citizen and the magnitude of this municipality '' . The body said engineering did insight that many of Georgia's entrance and vote laws `` area_unit outmoded or inadequate and often ambiguous '' . engineering recommended that Fulton lawgiver legal_document `` to person these laws studied and revised to the extremity of modernizing and improving them '' . The large_integer body commented on metric_linear_unit amount of other message , among\n"
          ]
        }
      ]
    },
    {
      "cell_type": "markdown",
      "source": [
        "Examples of replacements which don't work: ..."
      ],
      "metadata": {
        "id": "UuJAPYpDIEH8"
      }
    },
    {
      "cell_type": "markdown",
      "source": [
        "9. Repeat the same procedure from exercise 8, but replace with hyponyms instead."
      ],
      "metadata": {
        "id": "qh3bD49YY5yI"
      }
    },
    {
      "cell_type": "code",
      "source": [
        "# import nltk\n",
        "# from nltk.corpus import wordnet as wn\n",
        "\n",
        "# nltk.download('brown')"
      ],
      "metadata": {
        "id": "l2Sq5J8jKAf6"
      },
      "execution_count": null,
      "outputs": []
    },
    {
      "cell_type": "code",
      "source": [
        "corpus = nltk.corpus.brown.words()[:200]\n",
        "\n",
        "nouns = set()\n",
        "for word, pos in nltk.pos_tag(corpus):\n",
        "    if wn.synsets(word, pos=wn.NOUN):\n",
        "        nouns.add(word)\n",
        "\n",
        "reconstructed_corpus = []\n",
        "for word in corpus:\n",
        "    synsets = wn.synsets(word, pos=wn.NOUN)\n",
        "    if word in nouns and synsets:\n",
        "        if synsets[0].hyponyms():\n",
        "            hyponym = synsets[0].hyponyms()[0].name().split('.')[0]\n",
        "            reconstructed_corpus.append(hyponym)\n",
        "        else:\n",
        "            reconstructed_corpus.append(word)\n",
        "    else:\n",
        "        reconstructed_corpus.append(word)\n",
        "\n",
        "print('Original Corpus:')\n",
        "print(' '.join(corpus))\n",
        "print('\\nReconstructed Corpus:')\n",
        "print(' '.join(reconstructed_corpus))\n"
      ],
      "metadata": {
        "id": "2iruYxbBY-KL",
        "colab": {
          "base_uri": "https://localhost:8080/"
        },
        "outputId": "659fe819-d961-4f21-97e6-d2df9d554993"
      },
      "execution_count": null,
      "outputs": [
        {
          "output_type": "stream",
          "name": "stdout",
          "text": [
            "Original Corpus:\n",
            "The Fulton County Grand Jury said Friday an investigation of Atlanta's recent primary election produced `` no evidence '' that any irregularities took place . The jury further said in term-end presentments that the City Executive Committee , which had over-all charge of the election , `` deserves the praise and thanks of the City of Atlanta '' for the manner in which the election was conducted . The September-October term jury had been charged by Fulton Superior Court Judge Durwood Pye to investigate reports of possible `` irregularities '' in the hard-fought primary which was won by Mayor-nominate Ivan Allen Jr. . `` Only a relative handful of such reports was received '' , the jury said , `` considering the widespread interest in the election , the number of voters and the size of this city '' . The jury said it did find that many of Georgia's registration and election laws `` are outmoded or inadequate and often ambiguous '' . It recommended that Fulton legislators act `` to have these laws studied and revised to the end of modernizing and improving them '' . The grand jury commented on a number of other topics , among\n",
            "\n",
            "Reconstructed Corpus:\n",
            "The Fulton wight millenary grand_jury said Friday an fishing_expedition of Atlanta's recent direct_primary by-election produced `` no disproof '' that any deviation took birthplace . The grand_jury further said in term-end presentments that the national_capital corporate_executive blue_ribbon_commission , which had over-all countercharge of the by-election , `` deserves the compliment and appreciation of the national_capital of Atlanta '' for the artistic_style in which the by-election was conducted . The September-October referent grand_jury had been charged by Fulton better appellate_court alcalde Durwood Pye to investigate assay of possible `` deviation '' in the hard-fought direct_primary which was won by Mayor-nominate Ivan Allen Jr. . `` Only a agnate handful of such assay was received '' , the grand_jury said , `` considering the widespread concern in the by-election , the fewness of constituent and the circumference of this national_capital '' . The grand_jury said it did find that many of Georgia's registration and by-election laws `` are outmoded or inadequate and often ambiguous '' . It recommended that Fulton backbencher decree `` to affluent these laws studied and revised to the bitter_end of modernizing and improving them '' . The millenary grand_jury commented on a fewness of other bone_of_contention , among\n"
          ]
        }
      ]
    }
  ],
  "metadata": {
    "kernelspec": {
      "display_name": "Python 3",
      "language": "python",
      "name": "python3"
    },
    "language_info": {
      "codemirror_mode": {
        "name": "ipython",
        "version": 3
      },
      "file_extension": ".py",
      "mimetype": "text/x-python",
      "name": "python",
      "nbconvert_exporter": "python",
      "pygments_lexer": "ipython3",
      "version": "3.5.2"
    },
    "toc": {
      "base_numbering": 1,
      "nav_menu": {},
      "number_sections": true,
      "sideBar": true,
      "skip_h1_title": false,
      "title_cell": "Table of Contents",
      "title_sidebar": "Contents",
      "toc_cell": false,
      "toc_position": {},
      "toc_section_display": true,
      "toc_window_display": false
    },
    "colab": {
      "provenance": []
    }
  },
  "nbformat": 4,
  "nbformat_minor": 0
}